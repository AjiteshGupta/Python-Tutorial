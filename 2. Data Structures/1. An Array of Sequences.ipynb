{
 "cells": [
  {
   "cell_type": "markdown",
   "metadata": {},
   "source": [
    "### Overview:\n",
    "\n",
    "__Container Sequences (Data Structures that hold any type of elements)__\n",
    "\n",
    "list, tuple, collections.deque\n",
    "\n",
    "__Flat Sequences (hold data of only one type) __\n",
    "\n",
    "str, bytes, bytearray, memoryview, and array.array\n",
    "\n",
    "1. Container Sequences hold only references, which maybe of any types. \n",
    "2. Flat Sequences physically hold the data that they contain. \n",
    "3. Flat Sequences only contain primitive types like characters, bytes, and numbers. \n",
    "\n",
    "__Mutable Sequences__ : list, bytearray, array.array, collections.deque, memoryview\n",
    "\n",
    "__Immutable Sequences__: str, tuple, bytes\n",
    "\n",
    "Tip: In Python, line breaks are ignored in [], {}, and () so you can write multi-line list comprehensions without the '\\' in the end.\n",
    "\n",
    "#### Variable leaks are fixed in Python 3\n",
    "In Python two following happens:\n",
    "```\n",
    "x = 1\n",
    "dummy = [x for x in [1, 2, 3]]\n",
    "print x # prints 3\n",
    "```"
   ]
  },
  {
   "cell_type": "code",
   "execution_count": 2,
   "metadata": {},
   "outputs": [
    {
     "name": "stdout",
     "output_type": "stream",
     "text": [
      "1\n"
     ]
    }
   ],
   "source": [
    "# This doesn't happen in Python 3\n",
    "x = 1\n",
    "dummy = [x for x in [1, 2, 3]]\n",
    "print(x)"
   ]
  },
  {
   "cell_type": "markdown",
   "metadata": {},
   "source": [
    "### Execution of nested loops in listcomp\n",
    "Execution of nested loops in listcomps is done in same way as they are written. \n",
    "\n",
    "For instance, \n",
    "```\n",
    "[(a, b) for a in list_a for b in list_b]\n",
    "```\n",
    "Will have same effect as:\n",
    "```\n",
    "for a in list_a:\n",
    "    for b in list_b:\n",
    "        print(a, b)\n",
    "```\n",
    "\n",
    "### Generator comprehension\n",
    "For initializing somthing other than lists, generally use generators, because they will yield data one by one hence saving memory. \n"
   ]
  },
  {
   "cell_type": "code",
   "execution_count": 13,
   "metadata": {},
   "outputs": [
    {
     "name": "stdout",
     "output_type": "stream",
     "text": [
      "a b c d e f g h i j k l m n o p q r s t u v w x y z "
     ]
    }
   ],
   "source": [
    "list_a = list('abcdefghijklmnopqrstuvwxyz')\n",
    "for x in list_a:\n",
    "    print(x, end=' ')"
   ]
  },
  {
   "cell_type": "markdown",
   "metadata": {},
   "source": [
    "### Using * to grab extra items\n"
   ]
  },
  {
   "cell_type": "code",
   "execution_count": 15,
   "metadata": {},
   "outputs": [
    {
     "name": "stdout",
     "output_type": "stream",
     "text": [
      "1 2 [3, 4, 5, 6]\n"
     ]
    }
   ],
   "source": [
    "my_list = [1, 2, 3, 4, 5, 6]\n",
    "one, two, *extras = my_list\n",
    "print(one, two, extras)"
   ]
  },
  {
   "cell_type": "markdown",
   "metadata": {},
   "source": [
    "### \\* can also be in the middle"
   ]
  },
  {
   "cell_type": "code",
   "execution_count": 17,
   "metadata": {},
   "outputs": [
    {
     "name": "stdout",
     "output_type": "stream",
     "text": [
      "1 2 [3, 4] 5 6\n"
     ]
    }
   ],
   "source": [
    "one, two, *extras, five, six = my_list\n",
    "print(one, two, extras, five, six)"
   ]
  },
  {
   "cell_type": "markdown",
   "metadata": {},
   "source": [
    "### Slicing\n",
    "You can slice iterables using [start:stop:step]\n",
    "\n",
    "On using [start:stop:step] Python creates a slice() object that will be passed to your "
   ]
  },
  {
   "cell_type": "code",
   "execution_count": 23,
   "metadata": {},
   "outputs": [
    {
     "name": "stdout",
     "output_type": "stream",
     "text": [
      "(slice(1, 3, None), slice(5, 8, None), Ellipsis, slice(3, 3, None))\n",
      "\n"
     ]
    }
   ],
   "source": [
    "class IterableClass():\n",
    "    def __init__(self, data):\n",
    "        self.data = data\n",
    "    def __getitem__(self, slice_object):\n",
    "        print(slice_object)\n",
    "        return \"\"\n",
    "my_iterable = IterableClass([1, 2, 3, 4])\n",
    "print(my_iterable[1:3, 5:8, ..., 3:3])"
   ]
  },
  {
   "cell_type": "markdown",
   "metadata": {},
   "source": [
    "### You can also name your slices"
   ]
  },
  {
   "cell_type": "code",
   "execution_count": 24,
   "metadata": {},
   "outputs": [
    {
     "name": "stdout",
     "output_type": "stream",
     "text": [
      "Mayur Kulkarni      22 years old       $18.02\n",
      "Michael Scofield    37 years old       $43.44\n",
      "Uzumaki Naruto      18 years old       $44.41\n",
      "Uchiha Sasuke       18 years old       $88.55\n",
      "  \n"
     ]
    }
   ],
   "source": [
    "big_string = \"\"\"\n",
    "0.................18................35.....\n",
    "Mayur Kulkarni     22 years old      $18.02\n",
    "Michael Scofield   37 years old      $43.44\n",
    "Uzumaki Naruto     18 years old      $44.41\n",
    "Uchiha Sasuke      18 years old      $88.55\n",
    "\"\"\"\n",
    "NAME = slice(0, 18)\n",
    "AGE = slice(18, 35)\n",
    "MONEY = slice(35, None) # None implies to the end\n",
    "\n",
    "lines = big_string.split(\"\\n\")[2:]\n",
    "for line in lines:\n",
    "    print(line[NAME], line[AGE], line[MONEY])"
   ]
  },
  {
   "cell_type": "markdown",
   "metadata": {},
   "source": [
    "## Warning while using * and + for extending list\n",
    "\n",
    "```\n",
    "my_list = [['-'] * 3] * 3\n",
    "```\n",
    "Will create a list of length 3 with __3 reference to only single object__ \n",
    "\n",
    "If you want to create list of object, do it this way\n",
    "```\n",
    "my_list =  [['-'] * 3 for x in range(3)]\n",
    "```"
   ]
  },
  {
   "cell_type": "code",
   "execution_count": 27,
   "metadata": {},
   "outputs": [
    {
     "name": "stdout",
     "output_type": "stream",
     "text": [
      "[['-', '-', '-'], ['-', '-', '-'], ['-', '-', '-']]\n",
      "[['-', '-', 'X'], ['-', '-', 'X'], ['-', '-', 'X']]\n"
     ]
    }
   ],
   "source": [
    "my_list = [['-'] * 3] * 3\n",
    "print(my_list)\n",
    "my_list[1][2] = 'X'\n",
    "print(my_list)"
   ]
  },
  {
   "cell_type": "markdown",
   "metadata": {},
   "source": [
    "### All three entries are changed, which is inadvertent, instead do this"
   ]
  },
  {
   "cell_type": "code",
   "execution_count": 30,
   "metadata": {},
   "outputs": [
    {
     "name": "stdout",
     "output_type": "stream",
     "text": [
      "[['-', '-', '-'], ['-', '-', '-'], ['-', '-', '-']]\n",
      "[['-', '-', '-'], ['-', '-', 'X'], ['-', '-', '-']]\n"
     ]
    }
   ],
   "source": [
    "my_list = [['-'] * 3 for x in range(3)]\n",
    "print(my_list)\n",
    "my_list[1][2] = 'X'\n",
    "print(my_list)"
   ]
  },
  {
   "cell_type": "markdown",
   "metadata": {},
   "source": [
    "### For mutable objects, += happens in place\n",
    "'+=' calls \\__iadd\\__ internally, and '+' calls \\__add\\__ internally. \n",
    "\n",
    "The difference, is += will extend your existing + will take two objects, concatenate it and return new object"
   ]
  },
  {
   "cell_type": "code",
   "execution_count": 31,
   "metadata": {},
   "outputs": [
    {
     "name": "stdout",
     "output_type": "stream",
     "text": [
      "73058224\n",
      "73058224\n"
     ]
    }
   ],
   "source": [
    "my_list = [1, 2, 3, 4]\n",
    "print(id(my_list))\n",
    "my_list += [5, 6, 7]\n",
    "print(id(my_list))"
   ]
  },
  {
   "cell_type": "markdown",
   "metadata": {},
   "source": [
    "### IDs are same, so they are same objects"
   ]
  },
  {
   "cell_type": "code",
   "execution_count": 32,
   "metadata": {},
   "outputs": [
    {
     "name": "stdout",
     "output_type": "stream",
     "text": [
      "80791112\n",
      "80770912\n"
     ]
    }
   ],
   "source": [
    "my_list = [1, 2, 3, 4]\n",
    "print(id(my_list))\n",
    "my_list = my_list + [5, 6, 7]\n",
    "print(id(my_list))"
   ]
  },
  {
   "cell_type": "markdown",
   "metadata": {},
   "source": [
    "Different objects, hence, inefficient"
   ]
  },
  {
   "cell_type": "markdown",
   "metadata": {},
   "source": [
    "### An Important Python Convention:\n",
    "Functions that modify the object inplace should return None, indicating that the object itself was changed. Functions that do not change the objects, should return the result\n",
    "\n",
    "### When to not use List:\n",
    "1. Storing only numbers \n",
    "when you say `my_list = [1, 2, 3]` Python stores it as number objects. Instead, use `my_array = array.array('l', [1, 2, 3, 4])` then it will store it as packet bytes representing their machine values -- like in C language\n",
    "2. Constantly removing from ends\n",
    "Use deque instead\n",
    "3. Membership checking\n",
    "Use set instead\n"
   ]
  },
  {
   "cell_type": "markdown",
   "metadata": {},
   "source": [
    "## Array\n",
    "array class supports very fast read and writes to file\n"
   ]
  },
  {
   "cell_type": "code",
   "execution_count": 37,
   "metadata": {},
   "outputs": [
    {
     "data": {
      "text/plain": [
       "True"
      ]
     },
     "execution_count": 37,
     "metadata": {},
     "output_type": "execute_result"
    }
   ],
   "source": [
    "from array import array\n",
    "from random import random\n",
    "floats = array('d', (random() for i in range(10**7)))\n",
    "file_ = open('floats.bin', 'wb')\n",
    "array.tofile(floats, file_)\n",
    "file.close()\n",
    "file = open('floats.bin', 'rb')\n",
    "loaded_floats = array('d')\n",
    "loaded_floats.fromfile(file, 10**7)\n",
    "file.close()\n",
    "floats == loaded_floats"
   ]
  },
  {
   "cell_type": "markdown",
   "metadata": {},
   "source": [
    "## Memoryview\n",
    "By default, whenever you execute slice, python internally creates and operates on the copy of data, which is slower and requires more memory.\n",
    "\n",
    "Memoryview, enables to read the data directly from the internal implementation without creating a copy. But beware, they are mutable, and so your data will be changed. "
   ]
  },
  {
   "cell_type": "code",
   "execution_count": 89,
   "metadata": {},
   "outputs": [
    {
     "name": "stdout",
     "output_type": "stream",
     "text": [
      "<memory at 0x04CC95E0>\n",
      "Before:  array('B', [1, 2, 3, 4, 5])\n",
      "After:  array('B', [1, 3, 3, 4, 5])\n"
     ]
    }
   ],
   "source": [
    "myname = array('B', [1, 2, 3, 4, 5])\n",
    "mv = memoryview(myname)\n",
    "print(mv)\n",
    "print(\"Before: \", myname)\n",
    "mv[1] = 3\n",
    "print(\"After: \", myname)"
   ]
  },
  {
   "cell_type": "markdown",
   "metadata": {},
   "source": [
    "## Deque \n",
    "Deque is a double ended queue used for fast insertions in the both ends"
   ]
  },
  {
   "cell_type": "code",
   "execution_count": 2,
   "metadata": {},
   "outputs": [
    {
     "data": {
      "text/plain": [
       "deque([0, 1, 2, 3, 4, 5, 6, 7, 8, 9])"
      ]
     },
     "execution_count": 2,
     "metadata": {},
     "output_type": "execute_result"
    }
   ],
   "source": [
    "from collections import deque\n",
    "dq = deque(range(10), maxlen=10)\n",
    "dq"
   ]
  },
  {
   "cell_type": "code",
   "execution_count": 3,
   "metadata": {},
   "outputs": [
    {
     "data": {
      "text/plain": [
       "deque([2, 0, 1, 2, 3, 4, 5, 6, 7, 8])"
      ]
     },
     "execution_count": 3,
     "metadata": {},
     "output_type": "execute_result"
    }
   ],
   "source": [
    "dq.appendleft(2)\n",
    "dq"
   ]
  },
  {
   "cell_type": "markdown",
   "metadata": {},
   "source": [
    "Last item is deleted after you insert from other end.\n",
    "\n",
    "You can also append without deletion, using extend"
   ]
  },
  {
   "cell_type": "code",
   "execution_count": 5,
   "metadata": {},
   "outputs": [
    {
     "data": {
      "text/plain": [
       "deque([4, 3, 2, 1, 2, 0, 1, 2, 3, 4])"
      ]
     },
     "execution_count": 5,
     "metadata": {},
     "output_type": "execute_result"
    }
   ],
   "source": [
    "dq.extendleft([1, 2, 3, 4])\n",
    "dq"
   ]
  },
  {
   "cell_type": "code",
   "execution_count": 8,
   "metadata": {},
   "outputs": [
    {
     "data": {
      "text/plain": [
       "deque([1, 2, 3, 4, 0, 0, 0, 0, 0, 0])"
      ]
     },
     "execution_count": 8,
     "metadata": {},
     "output_type": "execute_result"
    }
   ],
   "source": [
    "# extend will extend the list from right side\n",
    "dq.extend([0, 0, 0, 0, 0, 0])\n",
    "dq"
   ]
  }
 ],
 "metadata": {
  "anaconda-cloud": {},
  "kernelspec": {
   "display_name": "Python 2",
   "language": "python",
   "name": "python2"
  },
  "language_info": {
   "codemirror_mode": {
    "name": "ipython",
    "version": 2
   },
   "file_extension": ".py",
   "mimetype": "text/x-python",
   "name": "python",
   "nbconvert_exporter": "python",
   "pygments_lexer": "ipython2",
   "version": "2.7.14"
  }
 },
 "nbformat": 4,
 "nbformat_minor": 1
}
