{
 "cells": [
  {
   "cell_type": "markdown",
   "metadata": {},
   "source": [
    "## String behaviour in Python 3\n",
    "In Python 3, a string is a collection of characters that are __unicode objects__.\n",
    "\n",
    "In Python 2, a string is a collection of characters that are __bytes__. "
   ]
  },
  {
   "cell_type": "code",
   "execution_count": 15,
   "metadata": {
    "collapsed": false
   },
   "outputs": [
    {
     "name": "stdout",
     "output_type": "stream",
     "text": [
      "b'caf\\xc3\\x83\\xc2\\xa9'\n",
      "cafÃ©\n"
     ]
    }
   ],
   "source": [
    "string = \"caf\\xc3\\xa9\".encode(\"utf-8\")\n",
    "# encode returns bytes\n",
    "print(string)\n",
    "string_unicode = string.decode(\"utf-8\")\n",
    "# decode returns string\n",
    "print(string_unicode)"
   ]
  },
  {
   "cell_type": "markdown",
   "metadata": {},
   "source": [
    "## Bytes and Bytearray\n",
    "\n",
    "Bytes are numbers taking value from 0 to 255. Bytes are immutable, while bytearray are mutable"
   ]
  },
  {
   "cell_type": "code",
   "execution_count": 45,
   "metadata": {
    "collapsed": false
   },
   "outputs": [
    {
     "name": "stdout",
     "output_type": "stream",
     "text": [
      "b'caf\\xc3\\x83\\xc3\\x89'\n",
      "99\n",
      "cafÃÉ\n",
      "bytearray(b'caf\\xc3\\x83\\xc3\\x89')\n",
      "195\n"
     ]
    }
   ],
   "source": [
    "cafe = bytes(\"caf\\xc3\\xc9\", encoding=\"utf-8\")\n",
    "print(cafe)\n",
    "print(cafe[0])\n",
    "print(cafe.decode(\"utf-8\"))\n",
    "cafe_arr = bytearray(cafe)\n",
    "print(cafe_arr)\n",
    "print(cafe_arr[3])"
   ]
  },
  {
   "cell_type": "code",
   "execution_count": 50,
   "metadata": {
    "collapsed": false
   },
   "outputs": [
    {
     "name": "stdout",
     "output_type": "stream",
     "text": [
      "cafÃÉ\n"
     ]
    }
   ],
   "source": [
    "print(cafe.decode(\"utf-8\"))"
   ]
  },
  {
   "cell_type": "markdown",
   "metadata": {},
   "source": [
    "### Errors can be fixed by:\n",
    "1. Ignoring: Python will simply skip the places where the ordinal is not in range, and those characters will be skipped. \n",
    "3. Replace: Python will replace problematic chars with \"?\""
   ]
  },
  {
   "cell_type": "code",
   "execution_count": 48,
   "metadata": {
    "collapsed": false
   },
   "outputs": [
    {
     "name": "stdout",
     "output_type": "stream",
     "text": [
      "caf\n",
      "caf����\n"
     ]
    }
   ],
   "source": [
    "print(cafe.decode(\"ascii\", errors=\"ignore\"))\n",
    "print(cafe.decode(\"ascii\", errors=\"replace\"))"
   ]
  },
  {
   "cell_type": "markdown",
   "metadata": {},
   "source": [
    "## Best Practises while Text processig\n",
    "Always specify the encoding while opening a file because the default encoding depends on OS and your program might not work well across platforms.  \n",
    "```\n",
    "with open(file_name, 'w', encoding=\"utf-8\") as f:\n",
    "    ...do stuff...\n",
    "```"
   ]
  }
 ],
 "metadata": {
  "kernelspec": {
   "display_name": "Python 3",
   "language": "python",
   "name": "python3"
  },
  "language_info": {
   "codemirror_mode": {
    "name": "ipython",
    "version": 3
   },
   "file_extension": ".py",
   "mimetype": "text/x-python",
   "name": "python",
   "nbconvert_exporter": "python",
   "pygments_lexer": "ipython3",
   "version": "3.6.3"
  }
 },
 "nbformat": 4,
 "nbformat_minor": 1
}
