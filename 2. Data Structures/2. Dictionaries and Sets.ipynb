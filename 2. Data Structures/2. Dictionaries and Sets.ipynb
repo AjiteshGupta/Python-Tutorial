{
 "cells": [
  {
   "cell_type": "markdown",
   "metadata": {},
   "source": [
    "## To insert into dict, the keys should be hashable\n",
    "\n",
    "### Hashable things are the objects that have \\__hash\\__() and \\__eq\\__() methods implemented\n",
    "Following things are hashable:\n",
    "1. immutable types: str, bytes, numeric types\n",
    "2. frozenset (since internal elements have to be hashable)\n",
    "\n",
    "Following things are nonhashable:\n",
    "1. set\n",
    "2. list\n",
    "\n",
    "For tuples, if the internal elements are hashable, then it is hashable as well. If the internal elements are nonhashable, then the tuple is nonhashable. "
   ]
  },
  {
   "cell_type": "code",
   "execution_count": 11,
   "metadata": {
    "collapsed": false
   },
   "outputs": [
    {
     "name": "stdout",
     "output_type": "stream",
     "text": [
      "<type 'tuple'>\n"
     ]
    },
    {
     "ename": "TypeError",
     "evalue": "unhashable type: 'list'",
     "output_type": "error",
     "traceback": [
      "\u001b[0;31m---------------------------------------------------------------------------\u001b[0m",
      "\u001b[0;31mTypeError\u001b[0m                                 Traceback (most recent call last)",
      "\u001b[0;32m<ipython-input-11-eba0e1a82db9>\u001b[0m in \u001b[0;36m<module>\u001b[0;34m()\u001b[0m\n\u001b[1;32m      4\u001b[0m \u001b[0mmy_dict\u001b[0m\u001b[0;34m[\u001b[0m\u001b[0mtup\u001b[0m\u001b[0;34m]\u001b[0m \u001b[0;34m=\u001b[0m \u001b[0;34m'1'\u001b[0m \u001b[0;31m# this will be succesfull\u001b[0m\u001b[0;34m\u001b[0m\u001b[0m\n\u001b[1;32m      5\u001b[0m \u001b[0mano_tup\u001b[0m \u001b[0;34m=\u001b[0m \u001b[0;34m(\u001b[0m\u001b[0;36m1\u001b[0m\u001b[0;34m,\u001b[0m \u001b[0;34m[\u001b[0m\u001b[0;36m1\u001b[0m\u001b[0;34m,\u001b[0m \u001b[0;36m2\u001b[0m\u001b[0;34m]\u001b[0m\u001b[0;34m)\u001b[0m\u001b[0;34m\u001b[0m\u001b[0m\n\u001b[0;32m----> 6\u001b[0;31m \u001b[0mmy_dict\u001b[0m\u001b[0;34m[\u001b[0m\u001b[0mano_tup\u001b[0m\u001b[0;34m]\u001b[0m \u001b[0;34m=\u001b[0m \u001b[0;34m'1'\u001b[0m \u001b[0;31m# this will cause error\u001b[0m\u001b[0;34m\u001b[0m\u001b[0m\n\u001b[0m",
      "\u001b[0;31mTypeError\u001b[0m: unhashable type: 'list'"
     ]
    }
   ],
   "source": [
    "tup = (1, 2)\n",
    "print type(tup)\n",
    "my_dict = dict()\n",
    "my_dict[tup] = '1' # this will be succesfull\n",
    "ano_tup = (1, [1, 2])\n",
    "my_dict[ano_tup] = '1' # this will cause error"
   ]
  },
  {
   "cell_type": "markdown",
   "metadata": {},
   "source": [
    "### get(key, val) will return val if the key is not present in the dict"
   ]
  },
  {
   "cell_type": "code",
   "execution_count": 7,
   "metadata": {
    "collapsed": false
   },
   "outputs": [
    {
     "name": "stdout",
     "output_type": "stream",
     "text": [
      "Name: Mayur\n",
      "Salary: None\n"
     ]
    }
   ],
   "source": [
    "my_dict = dict(name='Mayur', surname='Kulkarni', age='22')\n",
    "print(\"Name:\", my_dict.get('name', None))\n",
    "print(\"Salary:\", my_dict.get('salary', None))"
   ]
  },
  {
   "cell_type": "markdown",
   "metadata": {},
   "source": [
    "If you want to do following task:\n",
    "```\n",
    "if 'key' in my_dict:\n",
    "    my_dict['key'].append(\"some data\")\n",
    "else:\n",
    "    my_list = list()\n",
    "    my_dict['key'] = list()\n",
    "    my_dict['key'].append(\"some data\")\n",
    "```\n",
    "This is inefficient and can cause bugs, using setdefault method this is can done very efficiently and is bug free"
   ]
  },
  {
   "cell_type": "code",
   "execution_count": 8,
   "metadata": {
    "collapsed": false
   },
   "outputs": [
    {
     "name": "stdout",
     "output_type": "stream",
     "text": [
      "{'name': 'Mayur', 'surname': 'Kulkarni', 'age': '22', 'Hobbies': ['Guitar', 'MachineLearning', 'AI']}\n"
     ]
    }
   ],
   "source": [
    "my_dict.setdefault(\"Hobbies\", []) \\\n",
    "            .extend(\"Guitar MachineLearning AI\".split())\n",
    "print(my_dict)"
   ]
  },
  {
   "cell_type": "markdown",
   "metadata": {},
   "source": [
    "### Defaultdict\n",
    "Default dict has a \\__missing\\__ method that will return a missing value whenever the key is absent, and is helpful in many scenarios"
   ]
  },
  {
   "cell_type": "code",
   "execution_count": 11,
   "metadata": {
    "collapsed": false
   },
   "outputs": [
    {
     "name": "stdout",
     "output_type": "stream",
     "text": [
      "defaultdict(<class 'int'>, {'T': 1, 'h': 1, 'i': 3, 's': 3, ' ': 3, 'm': 1, 'y': 1, 't': 1, 'r': 1, 'n': 1, 'g': 1})\n"
     ]
    }
   ],
   "source": [
    "from collections import defaultdict\n",
    "char_count = defaultdict(int)\n",
    "my_str = \"This is my string\"\n",
    "for x in my_str:\n",
    "    # if the key is present, add it\n",
    "    # if the key is not present, initialise\n",
    "    # it with zero, and add it\n",
    "    char_count[x] += 1 \n",
    "print(char_count)"
   ]
  },
  {
   "cell_type": "markdown",
   "metadata": {},
   "source": [
    "### ChainMap\n",
    "\n",
    "Chain map will keep track of mappings, and search linearly until one is found. This is useful when there are multiple mappings and you want to avoid unnecessary updates"
   ]
  },
  {
   "cell_type": "code",
   "execution_count": 13,
   "metadata": {
    "collapsed": false
   },
   "outputs": [
    {
     "name": "stdout",
     "output_type": "stream",
     "text": [
      "ChainMap({'a': 1, 'b': 2, 'c': 3}, {'c': 5, 'd': 6}, {'c': 9, 'd': 10})\n",
      "C: 3\n"
     ]
    }
   ],
   "source": [
    "from collections import ChainMap\n",
    "\n",
    "map1 = {'a': 1, 'b': 2, 'c': 3}\n",
    "map2 = {'c': 5, 'd': 6}\n",
    "map3 = {'c': 9, 'd': 10}\n",
    "\n",
    "chain_map = ChainMap(map1, map2, map3)\n",
    "print(chain_map)\n",
    "# note the search order is the order in which you insert\n",
    "print(\"C:\", chain_map['c']) "
   ]
  },
  {
   "cell_type": "markdown",
   "metadata": {},
   "source": [
    "## Counter\n",
    "counter will count the instances of hashable types and has useful methods like most_common(n)"
   ]
  },
  {
   "cell_type": "code",
   "execution_count": 15,
   "metadata": {
    "collapsed": false
   },
   "outputs": [
    {
     "name": "stdout",
     "output_type": "stream",
     "text": [
      "Counter({'is': 2, 'Mayur': 2, 'My': 1, 'name': 1, 'Mayur.': 1, 'a': 1, 'good': 1, 'guitarist.': 1, 'also': 1, 'plays': 1, 'football.': 1})\n",
      "Most common 2 [('is', 2), ('Mayur', 2)]\n"
     ]
    }
   ],
   "source": [
    "from collections import Counter\n",
    "my_str = \"My name is Mayur. \\\n",
    "            Mayur is a good guitarist. \\\n",
    "            Mayur also plays football.\"\n",
    "counter = Counter(my_str.split())\n",
    "print(counter)\n",
    "print(\"Most common 2\", counter.most_common(2))"
   ]
  },
  {
   "cell_type": "markdown",
   "metadata": {
    "collapsed": true
   },
   "source": [
    "### Set operations\n",
    "\n",
    "1. Intersection of A and B: `setA & setB`\n",
    "2. Union of A and B: `setA | setB`\n",
    "3. Relative complement: `setA - setB`\n",
    "4. Symmetric Difference: `setA ^ setB`\n",
    "5. Contains: `setA in setB`\n",
    "6. Subset: `setA <= setB`\n",
    "7. Proper Subset: `setA < setB`\n",
    "8. Superset: `setA >= setB`\n",
    "9. Proper Superset: `setA > setB`\n"
   ]
  },
  {
   "cell_type": "code",
   "execution_count": 12,
   "metadata": {
    "collapsed": false
   },
   "outputs": [
    {
     "name": "stdout",
     "output_type": "stream",
     "text": [
      "Set A: {1, 2, 3, 4, 5} SetB: {4, 5, 6, 7, 8}\n",
      "Intersection {4, 5}\n",
      "Union {1, 2, 3, 4, 5, 6, 7, 8}\n",
      "Relative Complement {1, 2, 3}\n",
      "Symmetric Difference {1, 2, 3, 6, 7, 8}\n",
      "Contains True\n",
      "Proper Subset True\n",
      "Superset True\n",
      "Proper Superset True\n"
     ]
    }
   ],
   "source": [
    "setA = {1, 2, 3, 4, 5}\n",
    "setA_small = {3, 4}\n",
    "element = 3\n",
    "setB = {4, 5, 6, 7, 8}\n",
    "print(\"Set A:\", setA, \"SetB:\", setB)\n",
    "print(\"Intersection\", setA & setB)\n",
    "print(\"Union\", setA | setB)\n",
    "print(\"Relative Complement\", setA - setB)\n",
    "print(\"Symmetric Difference\", setA ^ setB)\n",
    "print(\"Contains\", element in setA)\n",
    "print(\"Proper Subset\", setA_small <= setA)\n",
    "print(\"Superset\", setA >= setA)\n",
    "print(\"Proper Superset\", setA > setA_small)"
   ]
  },
  {
   "cell_type": "markdown",
   "metadata": {},
   "source": [
    "## Hasing in Python\n",
    "Python uses open addressing system to resolve collisions. For a user defined class, if you override \\__eq\\__() you should also override \\__hash\\__() else it will be inconsistent in dict and set. \n",
    "\n",
    "When you insert an item in dict, or set, Python will fetch its hash and then use some initial digits as its identity and save it in bucket. If another item has same hash and same key, the current entry of the value will be replaced. If the item has same hash and different key, then Python will search the next empty slot and save it there (Chaining). Same thing happens while lookup, then entire chain of elements with equal hash will be compared to fetch the one with equal keys hence worst case insertion and fetching time is $O(N)$ where N is the number of elements in the chain. \n",
    "\n",
    "Starting from Python 3 a random salt is added to the hash to prevent DOS attacks. Almost all programming languages suffer from this problem. Web services implementing dict are suffered, because the hash can be predicted and forced to $O(N)$ insertion which can consume 100% of your CPU. Python 3 and some other languages have dealt with it. "
   ]
  },
  {
   "cell_type": "code",
   "execution_count": 11,
   "metadata": {
    "collapsed": false
   },
   "outputs": [
    {
     "data": {
      "text/plain": [
       "True"
      ]
     },
     "execution_count": 11,
     "metadata": {},
     "output_type": "execute_result"
    }
   ],
   "source": [
    "3 in setA"
   ]
  },
  {
   "cell_type": "code",
   "execution_count": null,
   "metadata": {
    "collapsed": true
   },
   "outputs": [],
   "source": []
  }
 ],
 "metadata": {
  "kernelspec": {
   "display_name": "Python 3",
   "language": "python",
   "name": "python3"
  },
  "language_info": {
   "codemirror_mode": {
    "name": "ipython",
    "version": 3
   },
   "file_extension": ".py",
   "mimetype": "text/x-python",
   "name": "python",
   "nbconvert_exporter": "python",
   "pygments_lexer": "ipython3",
   "version": "3.6.3"
  }
 },
 "nbformat": 4,
 "nbformat_minor": 2
}
