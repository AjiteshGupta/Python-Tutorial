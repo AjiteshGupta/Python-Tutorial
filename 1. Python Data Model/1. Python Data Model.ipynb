{
 "cells": [
  {
   "cell_type": "markdown",
   "metadata": {},
   "source": [
    "### Difference between \\__len\\__ and len()\n",
    "\\__len\\__ is a special method in python which you can implement to enable len(you_data_structure) in your data structure\n",
    "\n",
    "1. len() can be called on any sequence (list, tuple, etc.) but \\__len\\__ can be called only on objects that have \\__len\\__ implmented \n",
    "2. if the object is a C type array, then len() will return the size present in the struct delaration of the object\n",
    "\n",
    "Which one should be preferred? \n",
    "The answer is len(), for few reasons:\n",
    "1. len() will give more appropraite exception when calling over class that cannot have length\n",
    "2. It is not good practise to use dunder methods outside"
   ]
  },
  {
   "cell_type": "code",
   "execution_count": 26,
   "metadata": {
    "collapsed": false
   },
   "outputs": [
    {
     "name": "stdout",
     "output_type": "stream",
     "text": [
      "3\n"
     ]
    }
   ],
   "source": [
    "class MyClass():\n",
    "    def __init__(self, data):\n",
    "        self.my_data = data\n",
    "    def __len__(self, ):\n",
    "        return len(self.my_data)\n",
    "my_class = MyClass([1, 2, 3])\n",
    "print(len(my_class))"
   ]
  },
  {
   "cell_type": "markdown",
   "metadata": {},
   "source": [
    "### More special methods\n",
    "\n",
    "####  \\__getitem\\__\n",
    "\n",
    "This method will get a specific item in your datastructure. After adding this method, you can use following syntax on your data structure\n",
    "```\n",
    "my_data[index]\n",
    "```\n",
    "Using \\__getitem\\__ you can support many other operations. One of them is random.choice operation which will return random element in your data structure. Also, we can use for loop on your ds\n",
    "\n",
    "namedtuple: This creates a light weight object, with specified parameters. It becomes more convenient to deal with objects this way, \n",
    "```\n",
    "from collections import namedtuple\n",
    "Point = namedtuple('Point', 'x y')\n",
    "pt1 = Point(1.0, 5.0)\n",
    "pt2 = Point(2.5, 1.5)\n",
    "\n",
    "from math import sqrt\n",
    "line_length = sqrt((pt1.x-pt2.x)**2 + (pt1.y-pt2.y)**2)\n",
    "```"
   ]
  },
  {
   "cell_type": "code",
   "execution_count": 26,
   "metadata": {
    "collapsed": false
   },
   "outputs": [],
   "source": [
    "import collections\n",
    "\n",
    "Card = collections.namedtuple('Card', ['rank', 'suit'])\n",
    "\n",
    "class FrenchDeck:\n",
    "    # Things here are called before __init__\n",
    "    ranks = [str(n) for n in range(2, 11)] + \\\n",
    "                        list('JQKA')\n",
    "    suits = 'spades diamonds clubs hearts'.split()\n",
    "    \n",
    "    def __init__(self):\n",
    "        self._cards = [Card(rank, suit) \n",
    "                       for suit in self.suits\n",
    "                       for rank in self.ranks]\n",
    "    \n",
    "    def __len__(self):\n",
    "        return len(self._cards)\n",
    "    \n",
    "    def __getitem__(self, position):\n",
    "        return self._cards[position]"
   ]
  },
  {
   "cell_type": "code",
   "execution_count": 31,
   "metadata": {
    "collapsed": false
   },
   "outputs": [
    {
     "name": "stdout",
     "output_type": "stream",
     "text": [
      "Length is: 52\n",
      "Card(rank='2', suit='spades')\n",
      "Card(rank='2', suit='spades')\n",
      "Card(rank='3', suit='spades')\n",
      "Card(rank='4', suit='spades')\n",
      "Card(rank='5', suit='spades')\n"
     ]
    }
   ],
   "source": [
    "deck = FrenchDeck()\n",
    "print(\"Length is: {0}\".format(len(deck))) # prints 52\n",
    "\n",
    "print(deck[0]) # now we can index cards\n",
    "for card in deck[:4]:\n",
    "    print(card)"
   ]
  },
  {
   "cell_type": "markdown",
   "metadata": {},
   "source": [
    "When your object doesn't have \\__contains\\__ method then the `in` method will iterate over your sequence and check for presence due to \\__getitem\\__ method. So \\__contains\\__ is $O(1)$ \\__getitem\\__ is $O(n)$\n",
    "\n",
    "Objects are immutable until we add \\__setitem\\__ to it. "
   ]
  },
  {
   "cell_type": "markdown",
   "metadata": {},
   "source": [
    "### Operator Overloading using special methods\n",
    "\n",
    "\\__repr\\__:\n",
    "\n",
    "\\__repr\\__ is called to get the formal representation of your string. \n",
    "\n",
    "If you do not implement \\__repr\\__ then it will be printed as: `<your_object at 0x10e100080>`\n",
    "\n",
    "Difference in \\__str\\__ and \\__repr\\__ is that \\__repr\\__ is used as an unambiguous representation of your string, and \\__str\\__ should be readable representation of your object. When you call str() and if \\__str\\__ is not available, \\__repr\\__ is used as a fallback"
   ]
  },
  {
   "cell_type": "code",
   "execution_count": 25,
   "metadata": {
    "collapsed": false
   },
   "outputs": [
    {
     "name": "stdout",
     "output_type": "stream",
     "text": [
      "String: Mayur\n",
      "\n",
      "Repr: 'Mayur\\n'\n",
      "\n",
      "Hi mayur\n",
      "Hi 'mayur' kulkarni\n"
     ]
    }
   ],
   "source": [
    "# While printing string, you can use !r to \n",
    "# print the __repr__ version of the string\n",
    "name_and_newline = \"Mayur\\n\"\n",
    "print(\"String: {!s}\".format(name_and_newline))\n",
    "print(\"Repr: {!r}\".format(name_and_newline))\n",
    "print()\n",
    "# You can also use keywords to print string\n",
    "string_dict = dict(name='mayur', \n",
    "                   surname='kulkarni')\n",
    "print(\"Hi {name}\"\n",
    "              .format(**string_dict)) \n",
    "# Using !r with keywords calls repr on the \n",
    "# variable on the left\n",
    "print(\"Hi {name!r} {surname!s}\".\n",
    "      format(**string_dict))"
   ]
  },
  {
   "cell_type": "markdown",
   "metadata": {},
   "source": [
    "### Bool method\n",
    "Instead of doing this:\n",
    "```\n",
    "if python_object:\n",
    "    result = True\n",
    "else:\n",
    "    result = False\n",
    "```\n",
    "You simply do:\n",
    "```\n",
    "result = bool(python_object)\n",
    "```\n",
    "By default, user defined classes are considered `True`. If \\__bool\\__ is implemented, that is called, else, \\__len\\__ is called, if the result is non-zero, `True` is returned else `False` "
   ]
  },
  {
   "cell_type": "code",
   "execution_count": 28,
   "metadata": {
    "collapsed": false
   },
   "outputs": [
    {
     "data": {
      "text/plain": [
       "True"
      ]
     },
     "execution_count": 28,
     "metadata": {},
     "output_type": "execute_result"
    }
   ],
   "source": [
    "new_deck = MyClass([1, 2])\n",
    "bool(new_deck)"
   ]
  },
  {
   "cell_type": "code",
   "execution_count": 29,
   "metadata": {
    "collapsed": false
   },
   "outputs": [
    {
     "name": "stdout",
     "output_type": "stream",
     "text": [
      "The Zen of Python, by Tim Peters\n",
      "\n",
      "Beautiful is better than ugly.\n",
      "Explicit is better than implicit.\n",
      "Simple is better than complex.\n",
      "Complex is better than complicated.\n",
      "Flat is better than nested.\n",
      "Sparse is better than dense.\n",
      "Readability counts.\n",
      "Special cases aren't special enough to break the rules.\n",
      "Although practicality beats purity.\n",
      "Errors should never pass silently.\n",
      "Unless explicitly silenced.\n",
      "In the face of ambiguity, refuse the temptation to guess.\n",
      "There should be one-- and preferably only one --obvious way to do it.\n",
      "Although that way may not be obvious at first unless you're Dutch.\n",
      "Now is better than never.\n",
      "Although never is often better than *right* now.\n",
      "If the implementation is hard to explain, it's a bad idea.\n",
      "If the implementation is easy to explain, it may be a good idea.\n",
      "Namespaces are one honking great idea -- let's do more of those!\n"
     ]
    }
   ],
   "source": [
    "import this"
   ]
  },
  {
   "cell_type": "code",
   "execution_count": null,
   "metadata": {
    "collapsed": true
   },
   "outputs": [],
   "source": []
  }
 ],
 "metadata": {
  "anaconda-cloud": {},
  "kernelspec": {
   "display_name": "Python 3",
   "language": "python",
   "name": "python3"
  },
  "language_info": {
   "codemirror_mode": {
    "name": "ipython",
    "version": 3
   },
   "file_extension": ".py",
   "mimetype": "text/x-python",
   "name": "python",
   "nbconvert_exporter": "python",
   "pygments_lexer": "ipython3",
   "version": "3.6.3"
  }
 },
 "nbformat": 4,
 "nbformat_minor": 1
}
