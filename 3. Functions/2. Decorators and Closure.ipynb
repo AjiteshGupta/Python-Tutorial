{
 "cells": [
  {
   "cell_type": "markdown",
   "metadata": {},
   "source": [
    "## Decorator\n",
    "A decorator is a function that takes input another function. It may modify that function or return another function altogether\n"
   ]
  },
  {
   "cell_type": "code",
   "execution_count": 3,
   "metadata": {
    "collapsed": false
   },
   "outputs": [
    {
     "name": "stdout",
     "output_type": "stream",
     "text": [
      "This is inside decorator\n",
      "Inside my function\n"
     ]
    }
   ],
   "source": [
    "def deco(another_function):\n",
    "    print(\"This is inside decorator\")\n",
    "    return another_function # always return the received function\n",
    "\n",
    "@deco\n",
    "def my_function():\n",
    "    print(\"Inside my function\")\n",
    "    \n",
    "my_function()"
   ]
  },
  {
   "cell_type": "markdown",
   "metadata": {
    "collapsed": true
   },
   "source": [
    "In most practical scenarios, decorators return a wrapped function like below. Important thing to note is decorators are executed at runtime even though the decorated functions are executed when they are called. "
   ]
  },
  {
   "cell_type": "code",
   "execution_count": 23,
   "metadata": {
    "collapsed": false
   },
   "outputs": [
    {
     "name": "stdout",
     "output_type": "stream",
     "text": [
      "Inside decorator\n",
      "Before calling print_me\n",
      "Inside wrapper\n",
      "hi what's up 123\n"
     ]
    }
   ],
   "source": [
    "def decorate(original_function):\n",
    "    print(\"Inside decorator\")\n",
    "    def wrapper(*args, **kwargs):\n",
    "        print(\"Inside wrapper\")\n",
    "        original_function(*args) # call the wrapped function \n",
    "    return wrapper\n",
    "\n",
    "@decorate\n",
    "def print_me(*send_anything):\n",
    "    print(*send_anything)\n",
    "\n",
    "print(\"Before calling print_me\")\n",
    "print_me(\"hi what's up\", \"123\")"
   ]
  },
  {
   "cell_type": "markdown",
   "metadata": {},
   "source": [
    "## Decorators with args\n",
    "You can also use decorators with arguments, like it is dont is Flask or Django. But you cannot simply pass in the argument list like @deco(arg1, arg2). To understand why it will fail, consider how it is translated\n",
    "\n",
    "```\n",
    "def decorate(original_function):\n",
    "    print(\"Inside decorator\")\n",
    "    def wrapper(*args, **kwargs):\n",
    "        print(\"Inside wrapper\")\n",
    "        original_function(*args) # call the wrapped function \n",
    "    return wrapper\n",
    "\n",
    "@decorate\n",
    "This is translated as:\n",
    "print_me = decorate(print_me). So next time you're calling print_me you're actually calling wrapper(*args, **kwargs)\n",
    "def print_me(*send_anything):\n",
    "    print(*send_anything)\n",
    "\n",
    "So if you do this:\n",
    "@decorate(arg1, arg2)\n",
    "That will be same as:\n",
    "print_me = decorate(arg1, arg2)(print_me)\n",
    "Which is undesired because it will end up in Nonetype not callable error. So you have to define decorator inside decorator\n",
    "```"
   ]
  },
  {
   "cell_type": "code",
   "execution_count": 18,
   "metadata": {
    "collapsed": false
   },
   "outputs": [
    {
     "name": "stdout",
     "output_type": "stream",
     "text": [
      "Inside decorator_with_args: \n",
      "one two three\n",
      "Inside wrap\n",
      "Before calling print_me\n",
      "Inside wrapper\n",
      "hi what's up 123\n"
     ]
    }
   ],
   "source": [
    "def decorate_with_args(*oargs):\n",
    "    print(\"Inside decorator_with_args: \")\n",
    "    print(*oargs)\n",
    "    def wrap(original_function):\n",
    "        print(\"Inside wrap\")\n",
    "        def wrapper(*args, **kwargs):\n",
    "            print(\"Inside wrapper\")\n",
    "            original_function(*args) # call the wrapped function \n",
    "        return wrapper\n",
    "    return wrap\n",
    "\n",
    "@decorate_with_args(\"one\", \"two\", \"three\")\n",
    "# print_me = decorate_with_args(\"one\", \"two\", \"three\")(print_me) above sentence is equal to this\n",
    "def print_me(*send_anything):\n",
    "    print(*send_anything)\n",
    "\n",
    "print(\"Before calling print_me\")\n",
    "print_me(\"hi what's up\", \"123\")"
   ]
  },
  {
   "cell_type": "markdown",
   "metadata": {},
   "source": [
    "## Another inherent problem of decorators\n"
   ]
  },
  {
   "cell_type": "code",
   "execution_count": 27,
   "metadata": {
    "collapsed": false
   },
   "outputs": [
    {
     "name": "stdout",
     "output_type": "stream",
     "text": [
      "wrapper\n",
      "This is a wrapper\n"
     ]
    }
   ],
   "source": [
    "def decorate(original_function):\n",
    "    \"\"\"This is a decorator\"\"\"\n",
    "    def wrapper(*args, **kwargs):\n",
    "        \"\"\"This is a wrapper\"\"\"\n",
    "        original_function(*args) # call the wrapped function \n",
    "    return wrapper\n",
    "\n",
    "@decorate\n",
    "def print_me(*send_anything):\n",
    "    \"\"\"This prints things\"\"\"\n",
    "    print(*send_anything)\n",
    "\n",
    "print(print_me.__name__)\n",
    "print(print_me.__doc__)"
   ]
  },
  {
   "cell_type": "markdown",
   "metadata": {},
   "source": [
    "This is undesirable! Because the original metadata of the function is lost. To deal with this we use the functools wraps decorator! By passing the wraps function the original function we preserve its identity. "
   ]
  },
  {
   "cell_type": "code",
   "execution_count": 31,
   "metadata": {
    "collapsed": false
   },
   "outputs": [
    {
     "name": "stdout",
     "output_type": "stream",
     "text": [
      "Function name: print_me\n",
      "Function doc: This prints things\n"
     ]
    }
   ],
   "source": [
    "from functools import wraps\n",
    "\n",
    "def decorate(original_function):\n",
    "    \"\"\"This is a decorator\"\"\"\n",
    "    @wraps(original_function)\n",
    "    def wrapper(*args, **kwargs):\n",
    "        \"\"\"This is a wrapper\"\"\"\n",
    "        original_function(*args) # call the wrapped function \n",
    "    return wrapper\n",
    "\n",
    "@decorate\n",
    "def print_me(*send_anything):\n",
    "    \"\"\"This prints things\"\"\"\n",
    "    print(*send_anything)\n",
    "\n",
    "print(\"Function name:\", print_me.__name__)\n",
    "print(\"Function doc:\", print_me.__doc__)"
   ]
  },
  {
   "cell_type": "markdown",
   "metadata": {},
   "source": [
    "You can also use decorator with class"
   ]
  },
  {
   "cell_type": "code",
   "execution_count": 29,
   "metadata": {
    "collapsed": false
   },
   "outputs": [
    {
     "name": "stdout",
     "output_type": "stream",
     "text": [
      "Inside init\n",
      "Do stuff here..\n",
      "Inside print me\n",
      "Hi this is Mayur\n"
     ]
    }
   ],
   "source": [
    "class deco_class:\n",
    "    def __init__(self, original_function):\n",
    "        print(\"Inside init\")\n",
    "        print(\"Do stuff here..\")\n",
    "        self.original_function = original_function\n",
    "        \n",
    "    def __call__(self, *args, **kwargs):\n",
    "        self.original_function(*args, **kwargs)\n",
    "        \n",
    "@deco_class\n",
    "def print_me(message):\n",
    "    print(\"Inside print me\")\n",
    "    print(message)\n",
    "\n",
    "print_me(\"Hi this is Mayur\")"
   ]
  },
  {
   "cell_type": "markdown",
   "metadata": {
    "collapsed": true
   },
   "source": [
    "## Closure\n",
    "Closure is basically tying the function to the environment. In other words, closure \"closes\" over the variables of outer function over inner functions so that the inner functions have access to the outer functions' variables even ___after___ the outer function is done execution. Decorators are nothing but closures. "
   ]
  },
  {
   "cell_type": "markdown",
   "metadata": {},
   "source": [
    "## Function scopes"
   ]
  },
  {
   "cell_type": "code",
   "execution_count": 2,
   "metadata": {
    "collapsed": false
   },
   "outputs": [
    {
     "name": "stdout",
     "output_type": "stream",
     "text": [
      "5\n",
      "10\n"
     ]
    }
   ],
   "source": [
    "# works perfectly fine\n",
    "def my_func():\n",
    "    b = 10\n",
    "    def a():\n",
    "        a = 5\n",
    "        print(a)\n",
    "        print(b) # Python understands this variable is from outer scope\n",
    "    a()\n",
    "my_func()"
   ]
  },
  {
   "cell_type": "code",
   "execution_count": 3,
   "metadata": {
    "collapsed": false
   },
   "outputs": [
    {
     "name": "stdout",
     "output_type": "stream",
     "text": [
      "5\n"
     ]
    },
    {
     "ename": "UnboundLocalError",
     "evalue": "local variable 'b' referenced before assignment",
     "output_type": "error",
     "traceback": [
      "\u001b[1;31m---------------------------------------------------------------------------\u001b[0m",
      "\u001b[1;31mUnboundLocalError\u001b[0m                         Traceback (most recent call last)",
      "\u001b[1;32m<ipython-input-3-5197f0c91e9b>\u001b[0m in \u001b[0;36m<module>\u001b[1;34m()\u001b[0m\n\u001b[0;32m      8\u001b[0m         \u001b[0mb\u001b[0m \u001b[1;33m=\u001b[0m \u001b[1;36m2\u001b[0m\u001b[1;33m\u001b[0m\u001b[0m\n\u001b[0;32m      9\u001b[0m     \u001b[0ma\u001b[0m\u001b[1;33m(\u001b[0m\u001b[1;33m)\u001b[0m\u001b[1;33m\u001b[0m\u001b[0m\n\u001b[1;32m---> 10\u001b[1;33m \u001b[0mmy_func\u001b[0m\u001b[1;33m(\u001b[0m\u001b[1;33m)\u001b[0m\u001b[1;33m\u001b[0m\u001b[0m\n\u001b[0m",
      "\u001b[1;32m<ipython-input-3-5197f0c91e9b>\u001b[0m in \u001b[0;36mmy_func\u001b[1;34m()\u001b[0m\n\u001b[0;32m      7\u001b[0m         \u001b[0mprint\u001b[0m\u001b[1;33m(\u001b[0m\u001b[0mb\u001b[0m\u001b[1;33m)\u001b[0m\u001b[1;33m\u001b[0m\u001b[0m\n\u001b[0;32m      8\u001b[0m         \u001b[0mb\u001b[0m \u001b[1;33m=\u001b[0m \u001b[1;36m2\u001b[0m\u001b[1;33m\u001b[0m\u001b[0m\n\u001b[1;32m----> 9\u001b[1;33m     \u001b[0ma\u001b[0m\u001b[1;33m(\u001b[0m\u001b[1;33m)\u001b[0m\u001b[1;33m\u001b[0m\u001b[0m\n\u001b[0m\u001b[0;32m     10\u001b[0m \u001b[0mmy_func\u001b[0m\u001b[1;33m(\u001b[0m\u001b[1;33m)\u001b[0m\u001b[1;33m\u001b[0m\u001b[0m\n",
      "\u001b[1;32m<ipython-input-3-5197f0c91e9b>\u001b[0m in \u001b[0;36ma\u001b[1;34m()\u001b[0m\n\u001b[0;32m      5\u001b[0m         \u001b[0ma\u001b[0m \u001b[1;33m=\u001b[0m \u001b[1;36m5\u001b[0m\u001b[1;33m\u001b[0m\u001b[0m\n\u001b[0;32m      6\u001b[0m         \u001b[0mprint\u001b[0m\u001b[1;33m(\u001b[0m\u001b[0ma\u001b[0m\u001b[1;33m)\u001b[0m\u001b[1;33m\u001b[0m\u001b[0m\n\u001b[1;32m----> 7\u001b[1;33m         \u001b[0mprint\u001b[0m\u001b[1;33m(\u001b[0m\u001b[0mb\u001b[0m\u001b[1;33m)\u001b[0m\u001b[1;33m\u001b[0m\u001b[0m\n\u001b[0m\u001b[0;32m      8\u001b[0m         \u001b[0mb\u001b[0m \u001b[1;33m=\u001b[0m \u001b[1;36m2\u001b[0m\u001b[1;33m\u001b[0m\u001b[0m\n\u001b[0;32m      9\u001b[0m     \u001b[0ma\u001b[0m\u001b[1;33m(\u001b[0m\u001b[1;33m)\u001b[0m\u001b[1;33m\u001b[0m\u001b[0m\n",
      "\u001b[1;31mUnboundLocalError\u001b[0m: local variable 'b' referenced before assignment"
     ]
    }
   ],
   "source": [
    "# doesn't work!\n",
    "def my_func():\n",
    "    b = 10\n",
    "    def a():\n",
    "        a = 5\n",
    "        print(a)\n",
    "        print(b)\n",
    "        b = 2\n",
    "    a()\n",
    "my_func()"
   ]
  },
  {
   "cell_type": "markdown",
   "metadata": {},
   "source": [
    "Above example fails even if the variable b is declared in the main function. This happens because Python treats the scope of variables in functions differently. In order to tell Python that it's the same variable that is defined in the outer scope, we need to use the nonlocal keyword. nonlocal call can be chained, for every nested function, nonlocal var will point to the variable outside that function. And the difference between nonlocal and global is that, global will make the var accessible anywhere throughout the program, nonlocal will work only in the nested functions. "
   ]
  },
  {
   "cell_type": "code",
   "execution_count": 12,
   "metadata": {
    "collapsed": false
   },
   "outputs": [
    {
     "name": "stdout",
     "output_type": "stream",
     "text": [
      "5\n",
      "Inside a 10\n",
      "Inside a. After assignment 2\n",
      "Outside a 2\n"
     ]
    }
   ],
   "source": [
    "def my_func():\n",
    "    b = 10\n",
    "    def a():\n",
    "        a = 5\n",
    "        nonlocal b\n",
    "        print(a)\n",
    "        print(\"Inside a\", b)\n",
    "        b = 2\n",
    "        print(\"Inside a. After assignment\", b)\n",
    "    a()\n",
    "    print(\"Outside a\", b)\n",
    "my_func()"
   ]
  },
  {
   "cell_type": "markdown",
   "metadata": {},
   "source": [
    "## Overloading in Python\n",
    "By default, Python supports overriding, but not overloading. But since Python 3.4 there's been a new addition which enables to overload function "
   ]
  },
  {
   "cell_type": "code",
   "execution_count": 15,
   "metadata": {
    "collapsed": false
   },
   "outputs": [
    {
     "name": "stdout",
     "output_type": "stream",
     "text": [
      "String: Hi!\n",
      "Int: 123\n",
      "List: [1, 2, 3, 4]\n",
      "Default: {'a': 1}\n"
     ]
    }
   ],
   "source": [
    "from functools import singledispatch\n",
    "\n",
    "@singledispatch\n",
    "def print_me(arg):\n",
    "    \"\"\"This is the default fallback\"\"\"\n",
    "    print(\"Default:\", arg)\n",
    "\n",
    "@print_me.register(int)\n",
    "def int_print_me(arg):\n",
    "    print(\"Int:\", arg)\n",
    "    \n",
    "@print_me.register(str)\n",
    "def str_print_me(arg):\n",
    "    print(\"String:\", arg)\n",
    "    \n",
    "@print_me.register(list)\n",
    "def list_print_me(arg):\n",
    "    print(\"List:\", arg)\n",
    "    \n",
    "print_me(\"Hi!\")\n",
    "print_me(123)\n",
    "print_me([1, 2, 3, 4])\n",
    "print_me({'a': 1})"
   ]
  },
  {
   "cell_type": "markdown",
   "metadata": {},
   "source": [
    "## Stacked Decorators\n",
    "Decorators can be stacked as well\n",
    "```\n",
    "@d1\n",
    "@d2\n",
    "def my_print():\n",
    "    ...\n",
    "\n",
    "is same as\n",
    "my_print = d1(d2(my_print))\n",
    "```"
   ]
  },
  {
   "cell_type": "code",
   "execution_count": null,
   "metadata": {
    "collapsed": true
   },
   "outputs": [],
   "source": []
  },
  {
   "cell_type": "code",
   "execution_count": null,
   "metadata": {
    "collapsed": true
   },
   "outputs": [],
   "source": []
  },
  {
   "cell_type": "code",
   "execution_count": null,
   "metadata": {
    "collapsed": true
   },
   "outputs": [],
   "source": []
  },
  {
   "cell_type": "code",
   "execution_count": null,
   "metadata": {
    "collapsed": true
   },
   "outputs": [],
   "source": []
  },
  {
   "cell_type": "code",
   "execution_count": null,
   "metadata": {
    "collapsed": true
   },
   "outputs": [],
   "source": []
  }
 ],
 "metadata": {
  "anaconda-cloud": {},
  "kernelspec": {
   "display_name": "Python 3",
   "language": "python",
   "name": "python3"
  },
  "language_info": {
   "codemirror_mode": {
    "name": "ipython",
    "version": 3
   },
   "file_extension": ".py",
   "mimetype": "text/x-python",
   "name": "python",
   "nbconvert_exporter": "python",
   "pygments_lexer": "ipython3",
   "version": "3.6.3"
  }
 },
 "nbformat": 4,
 "nbformat_minor": 2
}
