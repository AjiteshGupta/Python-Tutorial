{
 "cells": [
  {
   "cell_type": "markdown",
   "metadata": {},
   "source": [
    "## Decorator\n",
    "A decorator is a function that takes input another function. It may modify that function or return another function altogether\n"
   ]
  },
  {
   "cell_type": "code",
   "execution_count": 3,
   "metadata": {},
   "outputs": [
    {
     "name": "stdout",
     "output_type": "stream",
     "text": [
      "This is inside decorator\n",
      "Inside my function\n"
     ]
    }
   ],
   "source": [
    "def deco(another_function):\n",
    "    print(\"This is inside decorator\")\n",
    "    return another_function # always return the received function\n",
    "\n",
    "@deco\n",
    "def my_function():\n",
    "    print(\"Inside my function\")\n",
    "    \n",
    "my_function()"
   ]
  },
  {
   "cell_type": "markdown",
   "metadata": {
    "collapsed": true
   },
   "source": [
    "In most practical scenarios, decorators return a wrapped function like below. Important thing to note is decorators are executed at runtime even though the decorated functions are executed when they are called. "
   ]
  },
  {
   "cell_type": "code",
   "execution_count": 23,
   "metadata": {},
   "outputs": [
    {
     "name": "stdout",
     "output_type": "stream",
     "text": [
      "Inside decorator\n",
      "Before calling print_me\n",
      "Inside wrapper\n",
      "hi what's up 123\n"
     ]
    }
   ],
   "source": [
    "def decorate(original_function):\n",
    "    print(\"Inside decorator\")\n",
    "    def wrapper(*args, **kwargs):\n",
    "        print(\"Inside wrapper\")\n",
    "        original_function(*args) # call the wrapped function \n",
    "    return wrapper\n",
    "\n",
    "@decorate\n",
    "def print_me(*send_anything):\n",
    "    print(*send_anything)\n",
    "\n",
    "print(\"Before calling print_me\")\n",
    "print_me(\"hi what's up\", \"123\")"
   ]
  },
  {
   "cell_type": "markdown",
   "metadata": {},
   "source": [
    "## Decorators with args\n",
    "You can also use decorators with arguments, like it is dont is Flask or Django. But you cannot simply pass in the argument list like @deco(arg1, arg2). To understand why it will fail, consider how it is translated\n",
    "\n",
    "```\n",
    "def decorate(original_function):\n",
    "    print(\"Inside decorator\")\n",
    "    def wrapper(*args, **kwargs):\n",
    "        print(\"Inside wrapper\")\n",
    "        original_function(*args) # call the wrapped function \n",
    "    return wrapper\n",
    "\n",
    "@decorate\n",
    "This is translated as:\n",
    "print_me = decorate(print_me). So next time you're calling print_me you're actually calling wrapper(*args, **kwargs)\n",
    "def print_me(*send_anything):\n",
    "    print(*send_anything)\n",
    "\n",
    "So if you do this:\n",
    "@decorate(arg1, arg2)\n",
    "That will be same as:\n",
    "print_me = decorate(arg1, arg2)(print_me)\n",
    "Which is undesired because it will end up in Nonetype not callable error. So you have to define decorator inside decorator\n",
    "```"
   ]
  },
  {
   "cell_type": "code",
   "execution_count": 18,
   "metadata": {},
   "outputs": [
    {
     "name": "stdout",
     "output_type": "stream",
     "text": [
      "Inside decorator_with_args: \n",
      "one two three\n",
      "Inside wrap\n",
      "Before calling print_me\n",
      "Inside wrapper\n",
      "hi what's up 123\n"
     ]
    }
   ],
   "source": [
    "def decorate_with_args(*oargs):\n",
    "    print(\"Inside decorator_with_args: \")\n",
    "    print(*oargs)\n",
    "    def wrap(original_function):\n",
    "        print(\"Inside wrap\")\n",
    "        def wrapper(*args, **kwargs):\n",
    "            print(\"Inside wrapper\")\n",
    "            original_function(*args) # call the wrapped function \n",
    "        return wrapper\n",
    "    return wrap\n",
    "\n",
    "@decorate_with_args(\"one\", \"two\", \"three\")\n",
    "# print_me = decorate_with_args(\"one\", \"two\", \"three\")(print_me) above sentence is equal to this\n",
    "def print_me(*send_anything):\n",
    "    print(*send_anything)\n",
    "\n",
    "print(\"Before calling print_me\")\n",
    "print_me(\"hi what's up\", \"123\")"
   ]
  },
  {
   "cell_type": "markdown",
   "metadata": {},
   "source": [
    "## Another inherent problem of decorators\n"
   ]
  },
  {
   "cell_type": "code",
   "execution_count": 27,
   "metadata": {},
   "outputs": [
    {
     "name": "stdout",
     "output_type": "stream",
     "text": [
      "wrapper\n",
      "This is a wrapper\n"
     ]
    }
   ],
   "source": [
    "def decorate(original_function):\n",
    "    \"\"\"This is a decorator\"\"\"\n",
    "    def wrapper(*args, **kwargs):\n",
    "        \"\"\"This is a wrapper\"\"\"\n",
    "        original_function(*args) # call the wrapped function \n",
    "    return wrapper\n",
    "\n",
    "@decorate\n",
    "def print_me(*send_anything):\n",
    "    \"\"\"This prints things\"\"\"\n",
    "    print(*send_anything)\n",
    "\n",
    "print(print_me.__name__)\n",
    "print(print_me.__doc__)"
   ]
  },
  {
   "cell_type": "markdown",
   "metadata": {},
   "source": [
    "This is undesirable! Because the original metadata of the function is lost. To deal with this we use the functools wraps decorator! By passing the wraps function the original function we preserve its identity. "
   ]
  },
  {
   "cell_type": "code",
   "execution_count": 28,
   "metadata": {},
   "outputs": [
    {
     "name": "stdout",
     "output_type": "stream",
     "text": [
      "print_me\n",
      "This prints things\n"
     ]
    }
   ],
   "source": [
    "from functools import wraps\n",
    "\n",
    "def decorate(original_function):\n",
    "    \"\"\"This is a decorator\"\"\"\n",
    "    @wraps(original_function)\n",
    "    def wrapper(*args, **kwargs):\n",
    "        \"\"\"This is a wrapper\"\"\"\n",
    "        original_function(*args) # call the wrapped function \n",
    "    return wrapper\n",
    "\n",
    "@decorate\n",
    "def print_me(*send_anything):\n",
    "    \"\"\"This prints things\"\"\"\n",
    "    print(*send_anything)\n",
    "\n",
    "print(print_me.__name__)\n",
    "print(print_me.__doc__)"
   ]
  },
  {
   "cell_type": "code",
   "execution_count": null,
   "metadata": {
    "collapsed": true
   },
   "outputs": [],
   "source": []
  }
 ],
 "metadata": {
  "kernelspec": {
   "display_name": "Python 3",
   "language": "python",
   "name": "python3"
  },
  "language_info": {
   "codemirror_mode": {
    "name": "ipython",
    "version": 3
   },
   "file_extension": ".py",
   "mimetype": "text/x-python",
   "name": "python",
   "nbconvert_exporter": "python",
   "pygments_lexer": "ipython3",
   "version": "3.6.3"
  }
 },
 "nbformat": 4,
 "nbformat_minor": 2
}
