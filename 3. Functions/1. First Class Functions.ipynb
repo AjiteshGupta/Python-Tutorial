{
 "cells": [
  {
   "cell_type": "markdown",
   "metadata": {},
   "source": [
    "## First-class functions\n",
    "\n",
    "In Python, functions are first class. i.e., they can be passed as args, results, parameters etc. \n",
    "\n",
    "A __higher order function__ is the one that takes a functions as arg and returns another function as results. Some of the most used higher order funcs are map, sorted. "
   ]
  },
  {
   "cell_type": "markdown",
   "metadata": {},
   "source": [
    "### Filter\n",
    "filter lets you apply a filter on your iterable. In a filter, you pass a function which returns True or False. If for a given value, if it returns True then the item is not filtered out else it is. \n"
   ]
  },
  {
   "cell_type": "code",
   "execution_count": 23,
   "metadata": {
    "collapsed": false
   },
   "outputs": [
    {
     "name": "stdout",
     "output_type": "stream",
     "text": [
      "[0, 2, 4, 6, 8]\n"
     ]
    }
   ],
   "source": [
    "my_list = range(10)\n",
    "print(list(filter(lambda x: not x % 2, my_list)))"
   ]
  },
  {
   "cell_type": "markdown",
   "metadata": {
    "collapsed": true
   },
   "source": [
    "### Map \n",
    "Map will apply the function to each of your item in list\n"
   ]
  },
  {
   "cell_type": "code",
   "execution_count": 25,
   "metadata": {
    "collapsed": false
   },
   "outputs": [
    {
     "name": "stdout",
     "output_type": "stream",
     "text": [
      "[0, 1, 4, 9, 16, 25, 36, 49, 64, 81]\n"
     ]
    }
   ],
   "source": [
    "def square(num):\n",
    "    return num*num\n",
    "my_list = range(10)\n",
    "print(list(map(square, my_list)))"
   ]
  },
  {
   "cell_type": "markdown",
   "metadata": {
    "collapsed": false
   },
   "source": [
    "Both Map and Filter will return a generator\n",
    "\n",
    "### Reduce\n",
    "Reduce was initially builtin, now it's moved in functools. The function used expects two args, and returns one. Reduce applies one operation on a window of 2 on every element of the list"
   ]
  },
  {
   "cell_type": "code",
   "execution_count": 27,
   "metadata": {
    "collapsed": false
   },
   "outputs": [
    {
     "name": "stdout",
     "output_type": "stream",
     "text": [
      "362880\n"
     ]
    }
   ],
   "source": [
    "from functools import reduce\n",
    "def multiply(x, y):\n",
    "    return x*y\n",
    "my_list = range(1, 10)\n",
    "print(reduce(multiply, my_list)) # multiplies all elements in the array"
   ]
  },
  {
   "cell_type": "markdown",
   "metadata": {},
   "source": [
    "### Types of callable \n",
    "There are 7 types of callable objects\n",
    "1. User defined: functions created using def, or lambda. \n",
    "2. Built in: function implemented in C (for CPython) like len.\n",
    "3. Built in methods: methods implemented in C like dict.get.\n",
    "4. Methods: Functions implemented in body of a class. \n",
    "5. Classes: When invoked runs \\__new\\__() method and then \\__init\\__() method then the instance is returned to the caller. \n",
    "6. Class instances: If the class defines \\__call\\__ then that method is called on the creating object. \n",
    "7. Generator functions: functions that use yield keyword\n",
    "\n",
    "__Best way to check if the object is callable is using the callable() function__"
   ]
  },
  {
   "cell_type": "code",
   "execution_count": 28,
   "metadata": {
    "collapsed": false
   },
   "outputs": [
    {
     "data": {
      "text/plain": [
       "True"
      ]
     },
     "execution_count": 28,
     "metadata": {},
     "output_type": "execute_result"
    }
   ],
   "source": [
    "def my_func():\n",
    "    pass\n",
    "callable(my_func)"
   ]
  },
  {
   "cell_type": "markdown",
   "metadata": {},
   "source": [
    "### User defined callables\n",
    "User defined classes that implement \\__call\\__ fall into these categories. \n",
    "Once you define the call method then you can use your instance as a function. "
   ]
  },
  {
   "cell_type": "code",
   "execution_count": 61,
   "metadata": {
    "collapsed": true
   },
   "outputs": [],
   "source": [
    "import random\n",
    "\n",
    "class MyRandom:\n",
    "    \"\"\"Returns a random number\"\"\"\n",
    "    def __init__(self, rand_range):\n",
    "        self.rand_range = rand_range\n",
    "    def __call__(self):\n",
    "        return random.randint(0, self.rand_range)"
   ]
  },
  {
   "cell_type": "code",
   "execution_count": 62,
   "metadata": {
    "collapsed": false
   },
   "outputs": [],
   "source": [
    "random_generator = MyRandom(100)"
   ]
  },
  {
   "cell_type": "code",
   "execution_count": 63,
   "metadata": {
    "collapsed": false
   },
   "outputs": [
    {
     "name": "stdout",
     "output_type": "stream",
     "text": [
      "59\n"
     ]
    }
   ],
   "source": [
    "print(random_generator())"
   ]
  },
  {
   "cell_type": "markdown",
   "metadata": {},
   "source": [
    "### Methods of function introspection\n",
    "\n",
    "1. \\__dict\\__() will give you the elements of your class"
   ]
  },
  {
   "cell_type": "code",
   "execution_count": 72,
   "metadata": {
    "collapsed": false
   },
   "outputs": [
    {
     "name": "stdout",
     "output_type": "stream",
     "text": [
      "__module__ : __main__\n",
      "__doc__ : Returns a random number\n",
      "__init__ : <function MyRandom.__init__ at 0x04F0FDF8>\n",
      "__call__ : <function MyRandom.__call__ at 0x04F0FFA8>\n",
      "__dict__ : <attribute '__dict__' of 'MyRandom' objects>\n",
      "__weakref__ : <attribute '__weakref__' of 'MyRandom' objects>\n"
     ]
    }
   ],
   "source": [
    "for x in MyRandom.__dict__:\n",
    "    print(x, \":\", MyRandom.__dict__[x])"
   ]
  },
  {
   "cell_type": "code",
   "execution_count": 77,
   "metadata": {
    "collapsed": false
   },
   "outputs": [
    {
     "data": {
      "text/plain": [
       "<attribute '__dict__' of 'MyRandom' objects>"
      ]
     },
     "execution_count": 77,
     "metadata": {},
     "output_type": "execute_result"
    }
   ],
   "source": [
    "MyRandom.__dict__['__dict__']"
   ]
  },
  {
   "cell_type": "code",
   "execution_count": 68,
   "metadata": {
    "collapsed": false
   },
   "outputs": [
    {
     "data": {
      "text/plain": [
       "False"
      ]
     },
     "execution_count": 68,
     "metadata": {},
     "output_type": "execute_result"
    }
   ],
   "source": [
    "all([False])"
   ]
  },
  {
   "cell_type": "code",
   "execution_count": 81,
   "metadata": {
    "collapsed": true
   },
   "outputs": [],
   "source": [
    "page = \"\"\"\n",
    "<html>\n",
    "    <tag>\n",
    "        <inttag>Some</inttag>\n",
    "        <inttag>Tag</inttag>\n",
    "        <another>one</another>\n",
    "    </tag>\n",
    "    <val>val</val>\n",
    "</html>\"\"\""
   ]
  },
  {
   "cell_type": "code",
   "execution_count": 93,
   "metadata": {
    "collapsed": false
   },
   "outputs": [
    {
     "name": "stdout",
     "output_type": "stream",
     "text": [
      "defaultdict(<class 'list'>, {'inttag': ['Some</inttag><inttag>Tag</inttag><another>one</another></tag>']})\n"
     ]
    }
   ],
   "source": [
    "from collections import defaultdict\n",
    "\n",
    "tags = defaultdict(list)\n",
    "\n",
    "def tag_name_text(text):\n",
    "    assert text.startswith(\"<\")\n",
    "    data = text[text.find(\">\") + 1: len(text) - text[::-1].find(\"<\") -1]\n",
    "    tag = text[text.find(\"<\") + 1:text.find(\">\")]\n",
    "    return tag, data\n",
    "\n",
    "\n",
    "def get_tags(text, internal_tag, internal_dict):\n",
    "    if not text.startswith(\"<\"):\n",
    "        internal_dict[internal_tag].append(text)\n",
    "    else:\n",
    "        tag, data = tag_name_text(text)\n",
    "        get_tags(data, tag, internal_dict)\n",
    "page = page.replace(\"\\n\", '')\n",
    "page = page.replace(\" \", '')\n",
    "get_tags(page, \"\", tags)\n",
    "print(tags)"
   ]
  },
  {
   "cell_type": "code",
   "execution_count": null,
   "metadata": {
    "collapsed": true
   },
   "outputs": [],
   "source": []
  }
 ],
 "metadata": {
  "anaconda-cloud": {},
  "kernelspec": {
   "display_name": "Python 3",
   "language": "python",
   "name": "python3"
  },
  "language_info": {
   "codemirror_mode": {
    "name": "ipython",
    "version": 3
   },
   "file_extension": ".py",
   "mimetype": "text/x-python",
   "name": "python",
   "nbconvert_exporter": "python",
   "pygments_lexer": "ipython3",
   "version": "3.6.3"
  }
 },
 "nbformat": 4,
 "nbformat_minor": 1
}
