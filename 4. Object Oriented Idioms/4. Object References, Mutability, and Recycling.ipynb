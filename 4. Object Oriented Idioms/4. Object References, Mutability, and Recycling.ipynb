{
 "cells": [
  {
   "cell_type": "markdown",
   "metadata": {
    "collapsed": true
   },
   "source": [
    "#### Difference in is and =="
   ]
  },
  {
   "cell_type": "code",
   "execution_count": 16,
   "metadata": {},
   "outputs": [
    {
     "name": "stdout",
     "output_type": "stream",
     "text": [
      "Person A equals Person B: True\n",
      "Person A is Person B: True\n",
      "Person A equals Person C: True\n",
      "Person A is Person c: False\n"
     ]
    }
   ],
   "source": [
    "person_a = {'name': 'Mayur', 'age': 22}\n",
    "person_b = person_a\n",
    "person_c = {'name': 'Mayur', 'age': 22}\n",
    "print(\"Person A equals Person B:\", person_a == person_b)\n",
    "print(\"Person A is Person B:\", person_a is person_b)\n",
    "print(\"Person A equals Person C:\", person_a == person_c)\n",
    "print(\"Person A is Person c:\", person_a is person_c)"
   ]
  },
  {
   "cell_type": "markdown",
   "metadata": {},
   "source": [
    "True and False are 1 and 0 (ints)"
   ]
  },
  {
   "cell_type": "code",
   "execution_count": 19,
   "metadata": {},
   "outputs": [
    {
     "data": {
      "text/plain": [
       "4"
      ]
     },
     "execution_count": 19,
     "metadata": {},
     "output_type": "execute_result"
    }
   ],
   "source": [
    "3 + True"
   ]
  },
  {
   "cell_type": "markdown",
   "metadata": {},
   "source": [
    "## Difference in id, hash, and \\__eq\\__ and ==\n",
    "\n",
    "1. ID\n",
    "    1. Every object has a unique ID, which is the location of the memory in CPython. \n",
    "    2. When two objects are compared using `is` then their ids are being compared. \n",
    "    3. Comparing IDs is equal to id(obj_a) == id(obj_b)\n",
    "2. Value\n",
    "    1. Every object also has a value. \n",
    "    2. When two objects are compared using `==` then their values are being compared. \n",
    "    3. It is possible that two objects have different IDs but have same value. For instance, two list with same elements. \n",
    "    4. Comparing values if equal to obj_a.\\__eq\\__(obj_b)\n",
    "3. Hash\n",
    "    1. In addition, some elements may have a hash, you can check it using the `hash()` function. \n",
    "    2. Functions that have hash are hashable, meaning they can be inserted into dictionaries e.g. numbers, strings, etc. are hashable, while list is not hashable. \n",
    "    3. Two objects might have same hash, ideally every objects should have its own unique hash. "
   ]
  },
  {
   "cell_type": "markdown",
   "metadata": {
    "collapsed": true
   },
   "source": [
    "### Relative immutability of tuples\n",
    "In Python lists, tuples, dicts all hold refereces. Hence while we say tuples are immutable, we mean that the references that it is holding cannot be changed. If there's a mutable object inside of tuple two things happen:\n",
    "1. It is no longer hashable\n",
    "2. The value of the immutable object can be changed"
   ]
  },
  {
   "cell_type": "code",
   "execution_count": 1,
   "metadata": {},
   "outputs": [
    {
     "name": "stdout",
     "output_type": "stream",
     "text": [
      "2528502973977326415\n"
     ]
    }
   ],
   "source": [
    "tup1 = (1, 2, 3)\n",
    "print(hash(tup1)) # hashable"
   ]
  },
  {
   "cell_type": "code",
   "execution_count": 2,
   "metadata": {},
   "outputs": [
    {
     "ename": "TypeError",
     "evalue": "unhashable type: 'list'",
     "output_type": "error",
     "traceback": [
      "\u001b[0;31m---------------------------------------------------------------------------\u001b[0m",
      "\u001b[0;31mTypeError\u001b[0m                                 Traceback (most recent call last)",
      "\u001b[0;32m<ipython-input-2-009a454bdd11>\u001b[0m in \u001b[0;36m<module>\u001b[0;34m()\u001b[0m\n\u001b[1;32m      1\u001b[0m \u001b[0mtup2\u001b[0m \u001b[0;34m=\u001b[0m \u001b[0;34m(\u001b[0m\u001b[0;36m1\u001b[0m\u001b[0;34m,\u001b[0m \u001b[0;36m2\u001b[0m\u001b[0;34m,\u001b[0m \u001b[0;34m[\u001b[0m\u001b[0;36m3\u001b[0m\u001b[0;34m,\u001b[0m \u001b[0;36m4\u001b[0m\u001b[0;34m]\u001b[0m\u001b[0;34m)\u001b[0m\u001b[0;34m\u001b[0m\u001b[0m\n\u001b[0;32m----> 2\u001b[0;31m \u001b[0mprint\u001b[0m\u001b[0;34m(\u001b[0m\u001b[0mhash\u001b[0m\u001b[0;34m(\u001b[0m\u001b[0mtup2\u001b[0m\u001b[0;34m)\u001b[0m\u001b[0;34m)\u001b[0m\u001b[0;34m\u001b[0m\u001b[0m\n\u001b[0m",
      "\u001b[0;31mTypeError\u001b[0m: unhashable type: 'list'"
     ]
    }
   ],
   "source": [
    "tup2 = (1, 2, [3, 4])\n",
    "print(hash(tup2)) # not hashable, contains list!"
   ]
  },
  {
   "cell_type": "code",
   "execution_count": 4,
   "metadata": {},
   "outputs": [
    {
     "name": "stdout",
     "output_type": "stream",
     "text": [
      "(1, 2, [3, 4])\n",
      "(1, 2, [3, 4, 1, 2, 3, 4])\n"
     ]
    }
   ],
   "source": [
    "print(tup2)\n",
    "internal_list = tup2[2]\n",
    "internal_list.extend([1, 2, 3, 4])\n",
    "print(tup2) # tuple values changed!"
   ]
  },
  {
   "cell_type": "markdown",
   "metadata": {},
   "source": [
    "## Shallow and Deep Copy\n",
    "Copies are shallow by default in Python for performance reasons, but that can get you in trouble"
   ]
  },
  {
   "cell_type": "code",
   "execution_count": 5,
   "metadata": {},
   "outputs": [
    {
     "name": "stdout",
     "output_type": "stream",
     "text": [
      "L1 == L2: True\n",
      "L1 is L2: False\n"
     ]
    }
   ],
   "source": [
    "l1 = [1, 2, [3, 4, 5]]\n",
    "l2 = list(l1) # easiest way to shallow copy a list\n",
    "print(\"L1 == L2:\", l1 == l2)\n",
    "print(\"L1 is L2:\", l1 is l2)"
   ]
  },
  {
   "cell_type": "code",
   "execution_count": 6,
   "metadata": {},
   "outputs": [
    {
     "name": "stdout",
     "output_type": "stream",
     "text": [
      "L1[2] is L2[2]: True\n"
     ]
    }
   ],
   "source": [
    "print(\"L1[2] is L2[2]:\", l1[2] is l2[2])"
   ]
  },
  {
   "cell_type": "markdown",
   "metadata": {},
   "source": [
    "This proves that both the objects are same and hence changing one will change other, the best option is to use copy.deepcopy"
   ]
  },
  {
   "cell_type": "code",
   "execution_count": 7,
   "metadata": {},
   "outputs": [
    {
     "name": "stdout",
     "output_type": "stream",
     "text": [
      "L1 == L2: True\n",
      "L1 is L2: False\n",
      "L1[2] is L2[2]: False\n"
     ]
    }
   ],
   "source": [
    "from copy import deepcopy\n",
    "\n",
    "l1 = [1, 2, [3, 4, 5]]\n",
    "l2 = deepcopy(l1)\n",
    "print(\"L1 == L2:\", l1 == l2)\n",
    "print(\"L1 is L2:\", l1 is l2)\n",
    "print(\"L1[2] is L2[2]:\", l1[2] is l2[2]) # no more same object, problem solved!"
   ]
  },
  {
   "cell_type": "markdown",
   "metadata": {},
   "source": [
    "## Using mutable objects as default parameters\n"
   ]
  },
  {
   "cell_type": "code",
   "execution_count": 4,
   "metadata": {
    "collapsed": true
   },
   "outputs": [],
   "source": [
    "class Person:\n",
    "    def __init__(self, hobbies=[]):\n",
    "        self.hobbies = hobbies\n",
    "        \n",
    "    def add_hobbie(self, hobbie):\n",
    "        self.hobbies.append(hobbie)\n",
    "    \n",
    "    def __str__(self):\n",
    "        return str(self.hobbies)\n",
    "        "
   ]
  },
  {
   "cell_type": "code",
   "execution_count": 5,
   "metadata": {},
   "outputs": [
    {
     "name": "stdout",
     "output_type": "stream",
     "text": [
      "['Guitar', 'Football', 'Singing']\n"
     ]
    }
   ],
   "source": [
    "Mayur = Person(['Guitar', 'Football', 'Singing'])\n",
    "print(Mayur)"
   ]
  },
  {
   "cell_type": "code",
   "execution_count": 6,
   "metadata": {},
   "outputs": [
    {
     "name": "stdout",
     "output_type": "stream",
     "text": [
      "[]\n",
      "['DoTA2']\n"
     ]
    }
   ],
   "source": [
    "Michael = Person()\n",
    "print(Michael)\n",
    "Michael.add_hobbie('DoTA2')\n",
    "print(Michael)"
   ]
  },
  {
   "cell_type": "code",
   "execution_count": 7,
   "metadata": {},
   "outputs": [
    {
     "name": "stdout",
     "output_type": "stream",
     "text": [
      "['DoTA2']\n"
     ]
    }
   ],
   "source": [
    "Ralph = Person() # this should print [] but it doesn't!!\n",
    "print(Ralph)"
   ]
  },
  {
   "cell_type": "markdown",
   "metadata": {},
   "source": [
    "The problem lies when you create a Person with no parameters. For the first time, the empty list is created. But when you assign an alias to that list and change it, __the default parameter itself is changed__ and subsequently all calls where no list is passed are changed"
   ]
  },
  {
   "cell_type": "code",
   "execution_count": 9,
   "metadata": {},
   "outputs": [
    {
     "name": "stdout",
     "output_type": "stream",
     "text": [
      "['GTA5']\n"
     ]
    }
   ],
   "source": [
    "Eric = Person(['GTA5']) # when you pass a list, there's no problem\n",
    "print(Eric)"
   ]
  },
  {
   "cell_type": "markdown",
   "metadata": {},
   "source": [
    "So when you use a mutable parameter you should always initialise it with None and then use if else to initialise with new list"
   ]
  },
  {
   "cell_type": "code",
   "execution_count": 10,
   "metadata": {
    "collapsed": true
   },
   "outputs": [],
   "source": [
    "class Person:\n",
    "    def __init__(self, hobbies=None):\n",
    "        self.hobbies = list() if hobbies is None else hobbies\n",
    "        \n",
    "    def add_hobbie(self, hobbie):\n",
    "        self.hobbies.append(hobbie)\n",
    "    \n",
    "    def __str__(self):\n",
    "        return str(self.hobbies)\n",
    "        "
   ]
  },
  {
   "cell_type": "code",
   "execution_count": 11,
   "metadata": {},
   "outputs": [
    {
     "name": "stdout",
     "output_type": "stream",
     "text": [
      "['Guitar', 'Football', 'Singing']\n"
     ]
    }
   ],
   "source": [
    "Mayur = Person(['Guitar', 'Football', 'Singing'])\n",
    "print(Mayur)"
   ]
  },
  {
   "cell_type": "code",
   "execution_count": 12,
   "metadata": {},
   "outputs": [
    {
     "name": "stdout",
     "output_type": "stream",
     "text": [
      "[]\n",
      "['DoTA2']\n"
     ]
    }
   ],
   "source": [
    "Michael = Person()\n",
    "print(Michael)\n",
    "Michael.add_hobbie('DoTA2')\n",
    "print(Michael)"
   ]
  },
  {
   "cell_type": "code",
   "execution_count": 15,
   "metadata": {},
   "outputs": [
    {
     "name": "stdout",
     "output_type": "stream",
     "text": [
      "[]\n"
     ]
    }
   ],
   "source": [
    "Ralph = Person() # now it works!\n",
    "print(Ralph)"
   ]
  },
  {
   "cell_type": "code",
   "execution_count": null,
   "metadata": {
    "collapsed": true
   },
   "outputs": [],
   "source": []
  }
 ],
 "metadata": {
  "anaconda-cloud": {},
  "kernelspec": {
   "display_name": "Python 3",
   "language": "python",
   "name": "python3"
  },
  "language_info": {
   "codemirror_mode": {
    "name": "ipython",
    "version": 3
   },
   "file_extension": ".py",
   "mimetype": "text/x-python",
   "name": "python",
   "nbconvert_exporter": "python",
   "pygments_lexer": "ipython3",
   "version": "3.6.3"
  }
 },
 "nbformat": 4,
 "nbformat_minor": 1
}
