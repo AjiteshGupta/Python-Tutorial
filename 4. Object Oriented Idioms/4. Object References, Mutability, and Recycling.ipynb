{
 "cells": [
  {
   "cell_type": "markdown",
   "metadata": {
    "collapsed": true
   },
   "source": [
    "#### Difference in is and =="
   ]
  },
  {
   "cell_type": "code",
   "execution_count": 16,
   "metadata": {
    "collapsed": false
   },
   "outputs": [
    {
     "name": "stdout",
     "output_type": "stream",
     "text": [
      "Person A equals Person B: True\n",
      "Person A is Person B: True\n",
      "Person A equals Person C: True\n",
      "Person A is Person c: False\n"
     ]
    }
   ],
   "source": [
    "person_a = {'name': 'Mayur', 'age': 22}\n",
    "person_b = person_a\n",
    "person_c = {'name': 'Mayur', 'age': 22}\n",
    "print(\"Person A equals Person B:\", person_a == person_b)\n",
    "print(\"Person A is Person B:\", person_a is person_b)\n",
    "print(\"Person A equals Person C:\", person_a == person_c)\n",
    "print(\"Person A is Person c:\", person_a is person_c)"
   ]
  },
  {
   "cell_type": "markdown",
   "metadata": {},
   "source": [
    "True and False are 1 and 0 (ints)"
   ]
  },
  {
   "cell_type": "code",
   "execution_count": 19,
   "metadata": {
    "collapsed": false
   },
   "outputs": [
    {
     "data": {
      "text/plain": [
       "4"
      ]
     },
     "execution_count": 19,
     "metadata": {},
     "output_type": "execute_result"
    }
   ],
   "source": [
    "3 + True"
   ]
  },
  {
   "cell_type": "markdown",
   "metadata": {},
   "source": [
    "## Difference in id, hash, and \\__eq\\__ and ==\n",
    "\n",
    "1. ID\n",
    "    1. Every object has a unique ID, which is the location of the memory in CPython. \n",
    "    2. When two objects are compared using `is` then their ids are compared"
   ]
  },
  {
   "cell_type": "code",
   "execution_count": null,
   "metadata": {
    "collapsed": true
   },
   "outputs": [],
   "source": []
  }
 ],
 "metadata": {
  "anaconda-cloud": {},
  "kernelspec": {
   "display_name": "Python 3",
   "language": "python",
   "name": "python3"
  },
  "language_info": {
   "codemirror_mode": {
    "name": "ipython",
    "version": 3
   },
   "file_extension": ".py",
   "mimetype": "text/x-python",
   "name": "python",
   "nbconvert_exporter": "python",
   "pygments_lexer": "ipython3",
   "version": "3.6.3"
  }
 },
 "nbformat": 4,
 "nbformat_minor": 1
}
