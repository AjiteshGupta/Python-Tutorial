{
 "cells": [
  {
   "cell_type": "markdown",
   "metadata": {},
   "source": [
    "## @staticmethod and @classmethod\n",
    "\n",
    "In the previous section we saw how to use function overloading in Python using @singledispatch. When you overload a method you use classmethod instead. Both @staticmethod and @classmethod don't have first paramter as self\n",
    "\n",
    "### @staticmethods \n",
    "@staticmethods are like plain normal functions, just that they are contained in classes. \n",
    "\n",
    "### @classmethods\n",
    "@classmethods are functions where the first argument passed in the class itself. A common use of this method is to overload constructors"
   ]
  },
  {
   "cell_type": "code",
   "execution_count": 6,
   "metadata": {
    "collapsed": false
   },
   "outputs": [
    {
     "name": "stdout",
     "output_type": "stream",
     "text": [
      "Jetta 200\n",
      "Lambo 450\n"
     ]
    }
   ],
   "source": [
    "class Car:\n",
    "    def __init__(self, car_name, max_speed):\n",
    "        self.car_name = car_name\n",
    "        self.max_speed = max_speed\n",
    "    \n",
    "    @classmethod\n",
    "    def from_code(cls, car_code):\n",
    "        car_name, max_speed = car_code.split(\"-\")\n",
    "        car_inst = cls(car_name, max_speed) # using cls to instantiate the object\n",
    "        return car_inst\n",
    "    \n",
    "    @staticmethod\n",
    "    def print_me():\n",
    "        print(\"I am a car\")\n",
    "\n",
    "volkswagen = Car.from_code(\"Jetta-200\")\n",
    "print(volkswagen.car_name, volkswagen.max_speed)\n",
    "\n",
    "lamborghini = Car(\"Lambo\", \"450\")\n",
    "print(lamborghini.car_name, lamborghini.max_speed)"
   ]
  },
  {
   "cell_type": "markdown",
   "metadata": {},
   "source": [
    "You can also use @staticmethod to overload the class, but @staticmethod is preferred for following reasons"
   ]
  },
  {
   "cell_type": "code",
   "execution_count": 10,
   "metadata": {
    "collapsed": false
   },
   "outputs": [
    {
     "name": "stdout",
     "output_type": "stream",
     "text": [
      "True\n",
      "True\n",
      "False\n"
     ]
    }
   ],
   "source": [
    "class Car:\n",
    "    \"\"\"Car class overloaded with staticmethod\"\"\"\n",
    "    def __init__(self, car_name, max_speed):\n",
    "        self.car_name = car_name\n",
    "        self.max_speed = max_speed\n",
    "    \n",
    "    @staticmethod\n",
    "    def from_code(car_code):\n",
    "        return Car(*car_code.split(\"-\"))\n",
    "\n",
    "class FordCar(Car):\n",
    "    def __init__(self, ):\n",
    "        pass\n",
    "\n",
    "lamborghini = Car.from_code(\"Lamborghini-450\")\n",
    "mustang = FordCar.from_code(\"MustangGT-400\")\n",
    "print(isinstance(lamborghini, Car))\n",
    "print(isinstance(mustang, Car))\n",
    "print(isinstance(mustang, FordCar)) # Mustang is not an instance of Ford car! Which is undesirable!"
   ]
  },
  {
   "cell_type": "markdown",
   "metadata": {},
   "source": [
    "Since we have hardcoded the from_code method to return a car instance, the subclases that inherit from that class are not instance of themselves! To fix this, use @staticmethod"
   ]
  },
  {
   "cell_type": "code",
   "execution_count": 4,
   "metadata": {
    "collapsed": false
   },
   "outputs": [
    {
     "name": "stdout",
     "output_type": "stream",
     "text": [
      "True\n",
      "True\n",
      "True\n"
     ]
    }
   ],
   "source": [
    "class Car:\n",
    "    \"\"\"Car class overloaded with classmethod\"\"\"\n",
    "    def __init__(self, car_name, max_speed):\n",
    "        self.car_name = car_name\n",
    "        self.max_speed = max_speed\n",
    "    \n",
    "    @classmethod\n",
    "    def from_code(cls, car_code):\n",
    "        return cls(*car_code.split(\"-\"))\n",
    "\n",
    "class FordCar(Car):\n",
    "    def __init__(self, car_name, max_speed):\n",
    "        self.car_name = car_name\n",
    "        self.max_speed = max_speed\n",
    "        \n",
    "lamborghini = Car.from_code(\"Lamborghini-450\")\n",
    "mustang = FordCar.from_code(\"MustangGT-400\")\n",
    "print(isinstance(lamborghini, Car))\n",
    "print(isinstance(mustang, Car))\n",
    "print(isinstance(mustang, FordCar)) # Now the output is correct!"
   ]
  },
  {
   "cell_type": "code",
   "execution_count": 13,
   "metadata": {
    "collapsed": false
   },
   "outputs": [
    {
     "name": "stdout",
     "output_type": "stream",
     "text": [
      "[1, 2, 3, 4]\n"
     ]
    }
   ],
   "source": [
    "print('{0!r}'.format([1, 2, 3, 4]))"
   ]
  },
  {
   "cell_type": "code",
   "execution_count": null,
   "metadata": {
    "collapsed": true
   },
   "outputs": [],
   "source": []
  }
 ],
 "metadata": {
  "anaconda-cloud": {},
  "kernelspec": {
   "display_name": "Python 3",
   "language": "python",
   "name": "python3"
  }
 },
 "nbformat": 4,
 "nbformat_minor": 1
}
