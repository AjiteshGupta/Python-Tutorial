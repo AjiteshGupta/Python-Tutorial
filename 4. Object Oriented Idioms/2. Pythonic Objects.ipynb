{
 "cells": [
  {
   "cell_type": "markdown",
   "metadata": {},
   "source": [
    "## @staticmethod and @classmethod\n",
    "\n",
    "In the previous section we saw how to use function overloading in Python using @singledispatch. When you overload a method you use classmethod instead. Both @staticmethod and @classmethod don't have first paramter as self\n",
    "\n",
    "### @staticmethods \n",
    "@staticmethods are like plain normal functions, just that they are contained in classes. \n",
    "\n",
    "### @classmethods\n",
    "@classmethods are functions where the first argument passed in the class itself. A common use of this method is to overload constructors"
   ]
  },
  {
   "cell_type": "code",
   "execution_count": 6,
   "metadata": {
    "collapsed": false
   },
   "outputs": [
    {
     "name": "stdout",
     "output_type": "stream",
     "text": [
      "Jetta 200\n",
      "Lambo 450\n"
     ]
    }
   ],
   "source": [
    "class Car:\n",
    "    def __init__(self, car_name, max_speed):\n",
    "        self.car_name = car_name\n",
    "        self.max_speed = max_speed\n",
    "    \n",
    "    @classmethod\n",
    "    def from_code(cls, car_code):\n",
    "        car_name, max_speed = car_code.split(\"-\")\n",
    "        car_inst = cls(car_name, max_speed) # using cls to instantiate the object\n",
    "        return car_inst\n",
    "    \n",
    "    @staticmethod\n",
    "    def print_me():\n",
    "        print(\"I am a car\")\n",
    "\n",
    "volkswagen = Car.from_code(\"Jetta-200\")\n",
    "print(volkswagen.car_name, volkswagen.max_speed)\n",
    "\n",
    "lamborghini = Car(\"Lambo\", \"450\")\n",
    "print(lamborghini.car_name, lamborghini.max_speed)"
   ]
  },
  {
   "cell_type": "markdown",
   "metadata": {},
   "source": [
    "You can also use @staticmethod to overload the class, but @staticmethod is preferred for following reasons"
   ]
  },
  {
   "cell_type": "code",
   "execution_count": 10,
   "metadata": {
    "collapsed": false
   },
   "outputs": [
    {
     "name": "stdout",
     "output_type": "stream",
     "text": [
      "True\n",
      "True\n",
      "False\n"
     ]
    }
   ],
   "source": [
    "class Car:\n",
    "    \"\"\"Car class overloaded with staticmethod\"\"\"\n",
    "    def __init__(self, car_name, max_speed):\n",
    "        self.car_name = car_name\n",
    "        self.max_speed = max_speed\n",
    "    \n",
    "    @staticmethod\n",
    "    def from_code(car_code):\n",
    "        return Car(*car_code.split(\"-\"))\n",
    "\n",
    "class FordCar(Car):\n",
    "    def __init__(self, ):\n",
    "        pass\n",
    "\n",
    "lamborghini = Car.from_code(\"Lamborghini-450\")\n",
    "mustang = FordCar.from_code(\"MustangGT-400\")\n",
    "print(isinstance(lamborghini, Car))\n",
    "print(isinstance(mustang, Car))\n",
    "print(isinstance(mustang, FordCar)) # Mustang is not an instance of Ford car! Which is undesirable!"
   ]
  },
  {
   "cell_type": "markdown",
   "metadata": {},
   "source": [
    "Since we have hardcoded the from_code method to return a car instance, the subclases that inherit from that class are not instance of themselves! To fix this, use @staticmethod"
   ]
  },
  {
   "cell_type": "code",
   "execution_count": 4,
   "metadata": {
    "collapsed": false
   },
   "outputs": [
    {
     "name": "stdout",
     "output_type": "stream",
     "text": [
      "True\n",
      "True\n",
      "True\n"
     ]
    }
   ],
   "source": [
    "class Car:\n",
    "    \"\"\"Car class overloaded with classmethod\"\"\"\n",
    "    def __init__(self, car_name, max_speed):\n",
    "        self.car_name = car_name\n",
    "        self.max_speed = max_speed\n",
    "    \n",
    "    @classmethod\n",
    "    def from_code(cls, car_code):\n",
    "        return cls(*car_code.split(\"-\"))\n",
    "\n",
    "class FordCar(Car):\n",
    "    def __init__(self, car_name, max_speed):\n",
    "        self.car_name = car_name\n",
    "        self.max_speed = max_speed\n",
    "        \n",
    "lamborghini = Car.from_code(\"Lamborghini-450\")\n",
    "mustang = FordCar.from_code(\"MustangGT-400\")\n",
    "print(isinstance(lamborghini, Car))\n",
    "print(isinstance(mustang, Car))\n",
    "print(isinstance(mustang, FordCar)) # Now the output is correct!"
   ]
  },
  {
   "cell_type": "markdown",
   "metadata": {},
   "source": [
    "## Private variables, and function \n",
    "If you prefix your variables, or function with double underscore, then Python will mangle the name of that variable thus making it (sort of) private. This feature is called \"name mangling\". It is a prevention mechanism for not overriding the variable names accidentally, and not a __security measure__. If you're bent on chaning the variables then you can do that. "
   ]
  },
  {
   "cell_type": "code",
   "execution_count": 20,
   "metadata": {
    "collapsed": false
   },
   "outputs": [
    {
     "name": "stdout",
     "output_type": "stream",
     "text": [
      "Mayur\n"
     ]
    },
    {
     "ename": "AttributeError",
     "evalue": "'Person' object has no attribute '__ssn'",
     "output_type": "error",
     "traceback": [
      "\u001b[1;31m---------------------------------------------------------------------------\u001b[0m",
      "\u001b[1;31mAttributeError\u001b[0m                            Traceback (most recent call last)",
      "\u001b[1;32m<ipython-input-20-f6e8a82ad5a5>\u001b[0m in \u001b[0;36m<module>\u001b[1;34m()\u001b[0m\n\u001b[0;32m      7\u001b[0m \u001b[0mMayur\u001b[0m \u001b[1;33m=\u001b[0m \u001b[0mPerson\u001b[0m\u001b[1;33m(\u001b[0m\u001b[1;34m\"Mayur\"\u001b[0m\u001b[1;33m,\u001b[0m \u001b[1;36m123435345\u001b[0m\u001b[1;33m)\u001b[0m\u001b[1;33m\u001b[0m\u001b[0m\n\u001b[0;32m      8\u001b[0m \u001b[0mprint\u001b[0m\u001b[1;33m(\u001b[0m\u001b[0mMayur\u001b[0m\u001b[1;33m.\u001b[0m\u001b[0mname\u001b[0m\u001b[1;33m)\u001b[0m\u001b[1;33m\u001b[0m\u001b[0m\n\u001b[1;32m----> 9\u001b[1;33m \u001b[0mprint\u001b[0m\u001b[1;33m(\u001b[0m\u001b[0mMayur\u001b[0m\u001b[1;33m.\u001b[0m\u001b[0m__ssn\u001b[0m\u001b[1;33m)\u001b[0m \u001b[1;31m# will throw error\u001b[0m\u001b[1;33m\u001b[0m\u001b[0m\n\u001b[0m\u001b[0;32m     10\u001b[0m \u001b[1;31m# or this Mayur.__secret_method() will throw error too!\u001b[0m\u001b[1;33m\u001b[0m\u001b[1;33m\u001b[0m\u001b[0m\n",
      "\u001b[1;31mAttributeError\u001b[0m: 'Person' object has no attribute '__ssn'"
     ]
    }
   ],
   "source": [
    "class Person:\n",
    "    def __init__(self, name, SSN):\n",
    "        self.name = name\n",
    "        self.__ssn = SSN\n",
    "    def __secret_method(self):\n",
    "        print(\"I am secret and invisible\")\n",
    "Mayur = Person(\"Mayur\", 123435345)\n",
    "print(Mayur.name)\n",
    "print(Mayur.__ssn) # will throw error\n",
    "# or this Mayur.__secret_method() will throw error too!"
   ]
  },
  {
   "cell_type": "code",
   "execution_count": 21,
   "metadata": {
    "collapsed": false
   },
   "outputs": [
    {
     "data": {
      "text/plain": [
       "mappingproxy({'_Person__secret_method': <function __main__.Person.__secret_method>,\n",
       "              '__dict__': <attribute '__dict__' of 'Person' objects>,\n",
       "              '__doc__': None,\n",
       "              '__init__': <function __main__.Person.__init__>,\n",
       "              '__module__': '__main__',\n",
       "              '__weakref__': <attribute '__weakref__' of 'Person' objects>})"
      ]
     },
     "execution_count": 21,
     "metadata": {},
     "output_type": "execute_result"
    }
   ],
   "source": [
    "Person.__dict__ # however, the secrect method is visible in __dict__ "
   ]
  },
  {
   "cell_type": "code",
   "execution_count": 22,
   "metadata": {
    "collapsed": false
   },
   "outputs": [
    {
     "name": "stdout",
     "output_type": "stream",
     "text": [
      "I am secret and invisible\n"
     ]
    }
   ],
   "source": [
    "Mayur._Person__secret_method() # executes just fine!"
   ]
  },
  {
   "cell_type": "markdown",
   "metadata": {},
   "source": [
    "## Property and making variables read-only\n",
    "@property is a way of building descriptor that triggers function calls based on the function calls to that attribute. Property has following signature. \n",
    "\n",
    "```property(fget=None, fset=None, fdel=None, doc=None) -> property attribute```\n",
    "\n",
    "You can set your custom getters, setters, deleters, and doc string to it\n"
   ]
  },
  {
   "cell_type": "code",
   "execution_count": 12,
   "metadata": {
    "collapsed": false,
    "scrolled": false
   },
   "outputs": [
    {
     "name": "stdout",
     "output_type": "stream",
     "text": [
      "Innova\n",
      "BMW\n"
     ]
    }
   ],
   "source": [
    "class Car:\n",
    "    def __init__(self, car_name, max_speed):\n",
    "        self.__car_name = car_name\n",
    "        self.max_speed = max_speed\n",
    "    \n",
    "    @property\n",
    "    def car_name(self):\n",
    "        return self.__car_name\n",
    "    \n",
    "    @car_name.setter\n",
    "    def car_name(self, new_car_name):\n",
    "        \"\"\"Setter to the car name private attribute\"\"\"\n",
    "        self.__car_name = new_car_name\n",
    "        \n",
    "    @car_name.deleter\n",
    "    def car_name(self, new_car_name):\n",
    "        \"\"\"Deleter to the car name private attribute\"\"\"\n",
    "        del self.__car_name\n",
    "\n",
    "Innova = Car(\"Innova\", 250)\n",
    "print(Innova.car_name)\n",
    "Innova.car_name = \"BMW\"\n",
    "print(Innova.car_name)"
   ]
  },
  {
   "cell_type": "markdown",
   "metadata": {},
   "source": [
    "### Making Read only objects\n",
    "Sometimes you want some fields immutable (For instance, the car name is above example) When you use property and don't implement the setter method then the object value becomes immutable.  "
   ]
  },
  {
   "cell_type": "code",
   "execution_count": 14,
   "metadata": {
    "collapsed": false
   },
   "outputs": [
    {
     "name": "stdout",
     "output_type": "stream",
     "text": [
      "Innova\n"
     ]
    },
    {
     "ename": "AttributeError",
     "evalue": "can't set attribute",
     "output_type": "error",
     "traceback": [
      "\u001b[1;31m---------------------------------------------------------------------------\u001b[0m",
      "\u001b[1;31mAttributeError\u001b[0m                            Traceback (most recent call last)",
      "\u001b[1;32m<ipython-input-14-53557d791af5>\u001b[0m in \u001b[0;36m<module>\u001b[1;34m()\u001b[0m\n\u001b[0;32m     21\u001b[0m \u001b[0mInnova\u001b[0m \u001b[1;33m=\u001b[0m \u001b[0mCar\u001b[0m\u001b[1;33m(\u001b[0m\u001b[1;34m\"Innova\"\u001b[0m\u001b[1;33m,\u001b[0m \u001b[1;36m250\u001b[0m\u001b[1;33m)\u001b[0m\u001b[1;33m\u001b[0m\u001b[0m\n\u001b[0;32m     22\u001b[0m \u001b[0mprint\u001b[0m\u001b[1;33m(\u001b[0m\u001b[0mInnova\u001b[0m\u001b[1;33m.\u001b[0m\u001b[0mcar_name\u001b[0m\u001b[1;33m)\u001b[0m\u001b[1;33m\u001b[0m\u001b[0m\n\u001b[1;32m---> 23\u001b[1;33m \u001b[0mInnova\u001b[0m\u001b[1;33m.\u001b[0m\u001b[0mcar_name\u001b[0m \u001b[1;33m=\u001b[0m \u001b[1;34m\"BMW\"\u001b[0m\u001b[1;33m\u001b[0m\u001b[0m\n\u001b[0m\u001b[0;32m     24\u001b[0m \u001b[0mprint\u001b[0m\u001b[1;33m(\u001b[0m\u001b[0mInnova\u001b[0m\u001b[1;33m.\u001b[0m\u001b[0mcar_name\u001b[0m\u001b[1;33m)\u001b[0m\u001b[1;33m\u001b[0m\u001b[0m\n",
      "\u001b[1;31mAttributeError\u001b[0m: can't set attribute"
     ]
    }
   ],
   "source": [
    "class Car:\n",
    "    def __init__(self, car_name, max_speed):\n",
    "        self.__car_name = car_name\n",
    "        self.max_speed = max_speed\n",
    "    \n",
    "    @property\n",
    "    def car_name(self):\n",
    "        return self.__car_name\n",
    "    \n",
    "#     Don't implement setter  \n",
    "#     @car_name.setter\n",
    "#     def car_name(self, new_car_name):\n",
    "#         \"\"\"Setter to the car name private attribute\"\"\"\n",
    "#         self.__car_name = new_car_name\n",
    "        \n",
    "    @car_name.deleter\n",
    "    def car_name(self, new_car_name):\n",
    "        \"\"\"Deleter to the car name private attribute\"\"\"\n",
    "        del self.__car_name\n",
    "\n",
    "Innova = Car(\"Innova\", 250)\n",
    "print(Innova.car_name)\n",
    "Innova.car_name = \"BMW\" # cannot set attribute!\n",
    "print(Innova.car_name)"
   ]
  },
  {
   "cell_type": "markdown",
   "metadata": {},
   "source": [
    "## Saving memory and \\__slots\\__\n",
    "Python stores all the class attributes in \\__dict\\__ so you can dynamically add in stuff even after the function is defined"
   ]
  },
  {
   "cell_type": "code",
   "execution_count": 27,
   "metadata": {
    "collapsed": false
   },
   "outputs": [
    {
     "name": "stdout",
     "output_type": "stream",
     "text": [
      "sedan\n",
      "MRF\n"
     ]
    }
   ],
   "source": [
    "sedan = Car(\"sedan\", 123)\n",
    "print(sedan.car_name)\n",
    "sedan.wheels = \"MRF\" # you can add anything\n",
    "print(sedan.wheels)"
   ]
  },
  {
   "cell_type": "code",
   "execution_count": 29,
   "metadata": {
    "collapsed": false
   },
   "outputs": [
    {
     "data": {
      "text/plain": [
       "{'_Car__car_name': 'sedan', 'max_speed': 123, 'wheels': 'MRF'}"
      ]
     },
     "execution_count": 29,
     "metadata": {},
     "output_type": "execute_result"
    }
   ],
   "source": [
    "sedan.__dict__ # This will show the stuff inside this instance variable"
   ]
  },
  {
   "cell_type": "code",
   "execution_count": null,
   "metadata": {
    "collapsed": true
   },
   "outputs": [],
   "source": []
  }
 ],
 "metadata": {
  "anaconda-cloud": {},
  "kernelspec": {
   "display_name": "Python 3",
   "language": "python",
   "name": "python3"
  }
 },
 "nbformat": 4,
 "nbformat_minor": 1
}
