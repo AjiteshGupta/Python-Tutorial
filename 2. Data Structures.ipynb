{
 "cells": [
  {
   "cell_type": "markdown",
   "metadata": {},
   "source": [
    "### Overview:\n",
    "\n",
    "__Container Sequences (Data Structures that hold any type of elements)__\n",
    "\n",
    "list, tuple, collections.deque\n",
    "\n",
    "__Flat Sequences (hold data of only one type) __\n",
    "\n",
    "str, bytes, bytearray, memoryview, and array.array\n",
    "\n",
    "1. Container Sequences hold only references, which maybe of any types. \n",
    "2. Flat Sequences physically hold the data that they contain. \n",
    "3. Flat Sequences only contain primitive types like characters, bytes, and numbers. \n",
    "\n",
    "__Mutable Sequences__ : list, bytearray, array.array, collections.deque, memoryview\n",
    "\n",
    "__Immutable Sequences__: str, tuple, bytes\n",
    "\n",
    "Tip: In Python, line breaks are ignored in [], {}, and () so you can write multi-line list comprehensions without the '\\' in the end.\n",
    "\n",
    "#### Variable leaks are fixed in Python 3\n",
    "In Python two following happens:\n",
    "```\n",
    "x = 1\n",
    "dummy = [x for x in [1, 2, 3]]\n",
    "print x # prints 3\n",
    "```"
   ]
  },
  {
   "cell_type": "code",
   "execution_count": 2,
   "metadata": {
    "collapsed": false
   },
   "outputs": [
    {
     "name": "stdout",
     "output_type": "stream",
     "text": [
      "1\n"
     ]
    }
   ],
   "source": [
    "# This doesn't happen in Python 3\n",
    "x = 1\n",
    "dummy = [x for x in [1, 2, 3]]\n",
    "print(x)"
   ]
  },
  {
   "cell_type": "markdown",
   "metadata": {},
   "source": [
    "### Execution of nested loops in listcomp\n",
    "Execution of nested loops in listcomps is done in same way as they are written. \n",
    "\n",
    "For instance, \n",
    "```\n",
    "[(a, b) for a in list_a for b in list_b]\n",
    "```\n",
    "Will have same effect as:\n",
    "```\n",
    "for a in list_a:\n",
    "    for b in list_b:\n",
    "        print(a, b)\n",
    "```\n",
    "\n",
    "### Generator comprehension\n",
    "For initializing somthing other than lists, generally use generators, because they will yield data one by one hence saving memory. \n"
   ]
  },
  {
   "cell_type": "code",
   "execution_count": 13,
   "metadata": {
    "collapsed": false
   },
   "outputs": [
    {
     "name": "stdout",
     "output_type": "stream",
     "text": [
      "a b c d e f g h i j k l m n o p q r s t u v w x y z "
     ]
    }
   ],
   "source": [
    "list_a = list('abcdefghijklmnopqrstuvwxyz')\n",
    "for x in list_a:\n",
    "    print(x, end=' ')"
   ]
  },
  {
   "cell_type": "code",
   "execution_count": null,
   "metadata": {
    "collapsed": true
   },
   "outputs": [],
   "source": []
  }
 ],
 "metadata": {
  "anaconda-cloud": {},
  "kernelspec": {
   "display_name": "Python 3",
   "language": "python",
   "name": "python3"
  },
  "language_info": {
   "codemirror_mode": {
    "name": "ipython",
    "version": 3
   },
   "file_extension": ".py",
   "mimetype": "text/x-python",
   "name": "python",
   "nbconvert_exporter": "python",
   "pygments_lexer": "ipython3",
   "version": "3.6.3"
  }
 },
 "nbformat": 4,
 "nbformat_minor": 1
}
